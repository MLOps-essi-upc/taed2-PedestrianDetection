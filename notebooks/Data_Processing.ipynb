{
  "nbformat": 4,
  "nbformat_minor": 0,
  "metadata": {
    "colab": {
      "provenance": []
    },
    "kernelspec": {
      "name": "python3",
      "display_name": "Python 3"
    },
    "language_info": {
      "name": "python"
    }
  },
  "cells": [
    {
      "cell_type": "markdown",
      "source": [
        "# **Data Processing (Splitting and Data Augmentation)**\n",
        "\n"
      ],
      "metadata": {
        "id": "zjQ5ecuHd_ai"
      }
    },
    {
      "cell_type": "markdown",
      "source": [
        "\n",
        "\n",
        "The intended use of this .ipynb file is to take the raw data file, augment the data and split it into a training set, validation set and testing set.\n"
      ],
      "metadata": {
        "id": "AV_VeyQRd4Xw"
      }
    },
    {
      "cell_type": "code",
      "source": [
        "# To execute the code it is necessary to retrieve the data files and add them to the Colab Workspace.\n",
        "# There are multiple ways to do this. In this case, the drive will be mounted into the workspace. This means that the 'path' for the data folder will not work universally. Each one must modify the path.\n",
        "# Another way is to upload the raw data into the workspace manually."
      ],
      "metadata": {
        "id": "xhUX3QHsfY2g"
      },
      "execution_count": null,
      "outputs": []
    },
    {
      "cell_type": "code",
      "source": [
        "50, 50 y 70 con transformaciones"
      ],
      "metadata": {
        "id": "E8_rJFOQN6Oe"
      },
      "execution_count": null,
      "outputs": []
    },
    {
      "cell_type": "code",
      "source": [
        "# We retrieve the raw data from the google drive folder.\n",
        "\n",
        "from google.colab import drive\n",
        "drive.mount('/content/drive', force_remount = True)"
      ],
      "metadata": {
        "colab": {
          "base_uri": "https://localhost:8080/"
        },
        "id": "Vst-z1XEeP7n",
        "outputId": "04e5df0e-2db5-4cff-ed02-2302fa8f532f"
      },
      "execution_count": 6,
      "outputs": [
        {
          "output_type": "stream",
          "name": "stdout",
          "text": [
            "Mounted at /content/drive\n"
          ]
        }
      ]
    },
    {
      "cell_type": "code",
      "source": [
        "# Replace the path with the correct path for each individual\n",
        "DATA_FOLDER = \"/content/drive/MyDrive/Colab Notebooks/TAED2/dataset_pedestrian/\"\n",
        "\n",
        "# Rodrigo: \"/content/drive/MyDrive/Colab Notebooks/TAED2/dataset_pedestrian/\""
      ],
      "metadata": {
        "id": "lzcWomO4eVC5"
      },
      "execution_count": 1,
      "outputs": []
    },
    {
      "cell_type": "code",
      "source": [
        "%%shell\n",
        "\n",
        "# TorchVision repo is downloaded to use some reference files\n",
        "git clone https://github.com/pytorch/vision.git\n",
        "cd vision\n",
        "git checkout v0.15.1\n",
        "\n",
        "cp references/detection/utils.py ../\n",
        "cp references/detection/transforms.py ../\n",
        "cp references/detection/coco_eval.py ../\n",
        "cp references/detection/engine.py ../\n",
        "cp references/detection/coco_utils.py ../"
      ],
      "metadata": {
        "colab": {
          "base_uri": "https://localhost:8080/"
        },
        "id": "xKhu5re9lZeI",
        "outputId": "95241767-3dde-49d4-e911-1ca632360f31"
      },
      "execution_count": 2,
      "outputs": [
        {
          "output_type": "stream",
          "name": "stdout",
          "text": [
            "Cloning into 'vision'...\n",
            "remote: Enumerating objects: 398809, done.\u001b[K\n",
            "remote: Counting objects: 100% (49036/49036), done.\u001b[K\n",
            "remote: Compressing objects: 100% (2624/2624), done.\u001b[K\n",
            "remote: Total 398809 (delta 46471), reused 48736 (delta 46275), pack-reused 349773\u001b[K\n",
            "Receiving objects: 100% (398809/398809), 787.91 MiB | 36.03 MiB/s, done.\n",
            "Resolving deltas: 100% (369007/369007), done.\n",
            "Note: switching to 'v0.15.1'.\n",
            "\n",
            "You are in 'detached HEAD' state. You can look around, make experimental\n",
            "changes and commit them, and you can discard any commits you make in this\n",
            "state without impacting any branches by switching back to a branch.\n",
            "\n",
            "If you want to create a new branch to retain commits you create, you may\n",
            "do so (now or later) by using -c with the switch command. Example:\n",
            "\n",
            "  git switch -c <new-branch-name>\n",
            "\n",
            "Or undo this operation with:\n",
            "\n",
            "  git switch -\n",
            "\n",
            "Turn off this advice by setting config variable advice.detachedHead to false\n",
            "\n",
            "HEAD is now at 42759b1cc8 Version number bump for vision (#7419)\n"
          ]
        },
        {
          "output_type": "execute_result",
          "data": {
            "text/plain": []
          },
          "metadata": {},
          "execution_count": 2
        }
      ]
    },
    {
      "cell_type": "markdown",
      "source": [
        "## Data Augmention"
      ],
      "metadata": {
        "id": "immPlu74eKwh"
      }
    },
    {
      "cell_type": "code",
      "source": [
        "from engine import train_one_epoch, evaluate\n",
        "import utils\n",
        "import transforms as T\n",
        "import random\n",
        "\n",
        "def get_transform(train, transform_value = 1):\n",
        "    transforms = []\n",
        "    # Transforms that are applied to all images from the folder (convert to tensor and floats)\n",
        "    transforms.append(T.PILToTensor())\n",
        "    transforms.append(T.ConvertImageDtype(torch.float))\n",
        "\n",
        "    # Transforms to augment the raw data\n",
        "    if train:\n",
        "      if transform_value == 1:\n",
        "        transforms.append(T.RandomHorizontalFlip(p=1))\n",
        "\n",
        "      elif transform_value == 2:\n",
        "        transforms.append(T.RandomShortestSize(120,800))\n",
        "\n",
        "      else:\n",
        "        transforms.append(T.RandomPhotometricDistort(p = 1))\n",
        "\n",
        "\n",
        "    return T.Compose(transforms)"
      ],
      "metadata": {
        "id": "6JlQKmFueKhx"
      },
      "execution_count": 73,
      "outputs": []
    },
    {
      "cell_type": "code",
      "source": [
        "import os\n",
        "import numpy as np\n",
        "\n",
        "import torch\n",
        "import torch.utils.data\n",
        "\n",
        "from torchvision import transforms\n",
        "from torchvision import utils as tutils\n",
        "\n",
        "\n",
        "import skimage.transform as sktf\n",
        "import skimage.io as skio\n",
        "\n",
        "from PIL import Image\n",
        "\n",
        "random.seed(356)\n",
        "\n",
        "class PedestrianDataset(torch.utils.data.Dataset):\n",
        "    def __init__(self, root, transforms=None):\n",
        "        self.root = root\n",
        "        self.transforms = transforms\n",
        "        # The images are loaded and sorted to make sure they match with the appropiate mask\n",
        "        self.imgs = list(sorted(os.listdir(os.path.join(root, \"PNGImages\"))))\n",
        "        self.masks = list(sorted(os.listdir(os.path.join(root, \"PedMasks\"))))\n",
        "\n",
        "    def __getitem__(self, idx):\n",
        "        # The images and masks are loaded\n",
        "        img_path = os.path.join(self.root, \"PNGImages\", self.imgs[idx])\n",
        "        mask_path = os.path.join(self.root, \"PedMasks\", self.masks[idx])\n",
        "        img = Image.open(img_path).convert(\"RGB\")\n",
        "        # The mask is not converted to RGB given that each color corresponds to an object, the background being 0\n",
        "        mask = Image.open(mask_path)\n",
        "\n",
        "        mask = np.array(mask)\n",
        "        # The objects are coded with different colors\n",
        "        obj_ids = np.unique(mask)\n",
        "        # The first id is not necessary as it is the background\n",
        "        obj_ids = obj_ids[1:]\n",
        "\n",
        "        # The color coded mask is separated into a binary mask\n",
        "        masks = mask == obj_ids[:, None, None]\n",
        "\n",
        "        # We get each mask's bounding box coordinates\n",
        "        num_objs = len(obj_ids)\n",
        "        boxes = []\n",
        "        for i in range(num_objs):\n",
        "            pos = np.where(masks[i])\n",
        "            xmin = np.min(pos[1])\n",
        "            xmax = np.max(pos[1])\n",
        "            ymin = np.min(pos[0])\n",
        "            ymax = np.max(pos[0])\n",
        "            boxes.append([xmin, ymin, xmax, ymax])\n",
        "\n",
        "        boxes = torch.as_tensor(boxes, dtype=torch.float32)\n",
        "        # There is only one class\n",
        "        labels = torch.ones((num_objs,), dtype=torch.int64)\n",
        "        masks = torch.as_tensor(masks, dtype=torch.uint8)\n",
        "\n",
        "        image_id = torch.tensor([idx])\n",
        "        area = (boxes[:, 3] - boxes[:, 1]) * (boxes[:, 2] - boxes[:, 0])\n",
        "        # We assume that all instances are not crowded\n",
        "        iscrowd = torch.zeros((num_objs,), dtype=torch.int64)\n",
        "\n",
        "        target = {}\n",
        "        target[\"boxes\"] = boxes\n",
        "        target[\"labels\"] = labels\n",
        "        target[\"masks\"] = masks\n",
        "        target[\"image_id\"] = image_id\n",
        "        target[\"area\"] = area\n",
        "        target[\"iscrowd\"] = iscrowd\n",
        "\n",
        "        if self.transforms is not None:\n",
        "            img, target = self.transforms(img, target)\n",
        "\n",
        "        return img, target\n",
        "\n",
        "    def __len__(self):\n",
        "        return len(self.imgs)"
      ],
      "metadata": {
        "id": "TseSzYFjgx5W"
      },
      "execution_count": 4,
      "outputs": []
    },
    {
      "cell_type": "code",
      "source": [
        "random.seed(356)\n",
        "dataset = PedestrianDataset(DATA_FOLDER,get_transform(train = 1, transform_value = 2))\n",
        "(img,target) = dataset[89]\n",
        "\n",
        "# We check the size of the tensors\n",
        "print(img.shape)\n",
        "print(target[\"masks\"].shape)\n",
        "print(target[\"labels\"].shape)\n",
        "print(target[\"boxes\"].shape)"
      ],
      "metadata": {
        "colab": {
          "base_uri": "https://localhost:8080/"
        },
        "id": "XxrgAQLKoGsj",
        "outputId": "3fb31a56-a60b-4cb6-8e12-1ba18db015d7"
      },
      "execution_count": 29,
      "outputs": [
        {
          "output_type": "stream",
          "name": "stdout",
          "text": [
            "torch.Size([3, 120, 205])\n",
            "torch.Size([3, 120, 205])\n",
            "torch.Size([3])\n",
            "torch.Size([3, 4])\n"
          ]
        }
      ]
    },
    {
      "cell_type": "code",
      "source": [
        "COCO_NAMES = ['__background__', 'person', 'bicycle', 'car', 'motorcycle', 'airplane', 'bus',\n",
        "    'train', 'truck', 'boat', 'traffic light', 'fire hydrant', 'N/A', 'stop sign',\n",
        "    'parking meter', 'bench', 'bird', 'cat', 'dog', 'horse', 'sheep', 'cow',\n",
        "    'elephant', 'bear', 'zebra', 'giraffe', 'N/A', 'backpack', 'umbrella', 'N/A', 'N/A',\n",
        "    'handbag', 'tie', 'suitcase', 'frisbee', 'skis', 'snowboard', 'sports ball',\n",
        "    'kite', 'baseball bat', 'baseball glove', 'skateboard', 'surfboard', 'tennis racket',\n",
        "    'bottle', 'N/A', 'wine glass', 'cup', 'fork', 'knife', 'spoon', 'bowl',\n",
        "    'banana', 'apple', 'sandwich', 'orange', 'broccoli', 'carrot', 'hot dog', 'pizza',\n",
        "    'donut', 'cake', 'chair', 'couch', 'potted plant', 'bed', 'N/A', 'dining table',\n",
        "    'N/A', 'N/A', 'toilet', 'N/A', 'tv', 'laptop', 'mouse', 'remote', 'keyboard', 'cell phone',\n",
        "    'microwave', 'oven', 'toaster', 'sink', 'refrigerator', 'N/A', 'book',\n",
        "    'clock', 'vase', 'scissors', 'teddy bear', 'hair drier', 'toothbrush']\n",
        "\n",
        "COLORS = np.random.uniform(0, 255, size=(len(COCO_NAMES), 3)).astype(int)\n",
        "import cv2\n",
        "import random\n",
        "random.seed(356)\n",
        "\n",
        "def draw_segmentation_map(image, target, score_thres=0.8):\n",
        "\n",
        "    # It's converted to arrays\n",
        "    _image = np.copy(image.cpu().detach().numpy().transpose(1,2,0)*255)\n",
        "    _masks = np.copy(target['masks'].cpu().detach().numpy().astype(np.float32))\n",
        "    _boxes = np.copy(target['boxes'].cpu().detach().numpy().astype(int))\n",
        "    _labels = np.copy(target['labels'].cpu().detach().numpy().astype(int))\n",
        "    if \"scores\" in target:\n",
        "      _scores = np.copy(target[\"scores\"].cpu().detach().numpy())\n",
        "    else:\n",
        "      _scores = np.ones(len(_masks),dtype=np.float32)\n",
        "\n",
        "    alpha = 0.3\n",
        "\n",
        "    label_names = [COCO_NAMES[i] for i in _labels]\n",
        "\n",
        "    # The mask is added only if the score surpasses the threshold\n",
        "    m = np.zeros_like(_masks[0].squeeze())\n",
        "    for i in range(len(_masks)):\n",
        "      if _scores[i] > score_thres:\n",
        "        m = m + _masks[i]\n",
        "\n",
        "    # Make sure the m has the correct size (no dimension at 1)\n",
        "    m = m.squeeze()\n",
        "\n",
        "    # The pixels outside of the image are darkened\n",
        "    _image[m<0.5] = 0.3*_image[m<0.5]\n",
        "\n",
        "    # We transform from RGB to OpenCV BGR and back\n",
        "    _image = cv2.cvtColor(_image, cv2.COLOR_RGB2BGR)\n",
        "    _image = cv2.cvtColor(_image, cv2.COLOR_BGR2RGB)\n",
        "\n",
        "    for i in range(len(_masks)):\n",
        "      if _scores[i] > score_thres:\n",
        "        # Apply a random color to each object\n",
        "        color = COLORS[random.randrange(0, len(COLORS))].tolist()\n",
        "\n",
        "        # The bounding boxes are drawn around the objects\n",
        "        cv2.rectangle(_image, _boxes[i][0:2], _boxes[i][2:4], color=color, thickness=2)\n",
        "        # We add the class label above the objects\n",
        "        cv2.putText(_image , label_names[i], (_boxes[i][0], _boxes[i][1]-10),\n",
        "                    cv2.FONT_HERSHEY_SIMPLEX, 1, color,\n",
        "                    thickness=1, lineType=cv2.LINE_AA)\n",
        "\n",
        "    return _image/255"
      ],
      "metadata": {
        "id": "IiRXAjAsoWat"
      },
      "execution_count": 9,
      "outputs": []
    },
    {
      "cell_type": "code",
      "source": [
        "import plotly.express as px\n",
        "px.imshow(draw_segmentation_map(img, target))"
      ],
      "metadata": {
        "colab": {
          "base_uri": "https://localhost:8080/",
          "height": 542
        },
        "id": "OgXyWWJ6oZsW",
        "outputId": "3c085e84-ed18-4930-c92b-14b1b3e46bd0"
      },
      "execution_count": 31,
      "outputs": [
        {
          "output_type": "display_data",
          "data": {
            "text/html": [
              "<html>\n",
              "<head><meta charset=\"utf-8\" /></head>\n",
              "<body>\n",
              "    <div>            <script src=\"https://cdnjs.cloudflare.com/ajax/libs/mathjax/2.7.5/MathJax.js?config=TeX-AMS-MML_SVG\"></script><script type=\"text/javascript\">if (window.MathJax && window.MathJax.Hub && window.MathJax.Hub.Config) {window.MathJax.Hub.Config({SVG: {font: \"STIX-Web\"}});}</script>                <script type=\"text/javascript\">window.PlotlyConfig = {MathJaxConfig: 'local'};</script>\n",
              "        <script charset=\"utf-8\" src=\"https://cdn.plot.ly/plotly-2.24.1.min.js\"></script>                <div id=\"88962fe1-cb9d-4f14-bba5-3a8b535380d9\" class=\"plotly-graph-div\" style=\"height:525px; width:100%;\"></div>            <script type=\"text/javascript\">                                    window.PLOTLYENV=window.PLOTLYENV || {};                                    if (document.getElementById(\"88962fe1-cb9d-4f14-bba5-3a8b535380d9\")) {                    Plotly.newPlot(                        \"88962fe1-cb9d-4f14-bba5-3a8b535380d9\",                        [{\"name\":\"0\",\"source\":\"data:image\\u002fpng;base64,iVBORw0KGgoAAAANSUhEUgAAAM0AAAB4CAIAAADe2eH4AACstUlEQVR4Xrz9d7Ct2VEfDHf3Ck\\u002fc8eRzbr4zd5JmFAgimowxGIMxOGBeg02SBBISEi\\u002fCRGFhhARIICQEMsEkY+PifU2wCSaIIKGcJ9yZufnks\\u002fMTV+rvj33n3uu\\u002fvirX56+rTtWp2rtXeJ5eHX7dvTZ2NobobXDNiz\\u002fz0z\\u002f8kY8Ci06uifnB+x8ejSeezfHewcbGzvF4vnt0hJKiKNICt9dX047Y3d\\u002fVccQeBYpBbxjYdLrJaDQaDld++W3\\u002f9O99yZu9p1hHgFA3jSblgI1gkWjB\\u002ftz2+m+842u\\u002f8O\\u002f\\u002fnHdBCgrst7Y2fuvX\\u002fvkXfsVPdfLe4clcCWWL6cUH7qttzehm40UkMyLa2tqazsZ1WyRpLJUoF4udzZ13\\u002fOzXfPN3\\u002fudIx4hiPJ3kna4kNZtOlBRPPX3lsUcfvnLlmhDknUXE9fWNg4PDftbVqNIkC4Q6jgjFz7\\u002f9H7z02\\u002f8gSBnp6KlPfvL0qdP\\u002f4Ze\\u002f6rte9ic2tE88\\u002ffjK5sbReOzZOR8kCQS\\u002fujLsDwZlVfzOr\\u002fzrL\\u002f\\u002fnb1lfX29bM51OV4YDKfFX3\\u002fqvvv4lv16V5vhgHiyzB61UlGETFjawEvTXf\\u002fDar\\u002fuWX51NRz7Yna3TxbyKkzjNk8YYQDEZj\\u002frd7uh4v5tvHu2Nz52+UFe10mLlj8ezrxqMJyNgtbNzQZC4duOZspoliQ7g807a62f5by\\u002fmXzuczBa7t\\u002fYkJqa1n\\u002fPs4CMvaI1thBQuOEBkEbFpIpabG1uzYjyr55\\u002fxiZX3P2+sI3TebGxsLRbl5ubW4HenH\\u002f7UmVJqtb\\u002fmGxr2h2W7uHHrKmNIkzRS8fHRdNhfvf+9FgDe9+Ak73XWNtafeOqT3U5WFdXF+85Np5OqbCQRSpI2oEAaDPsnJ7NFWRGH4\\u002fFJr9u\\u002feetqYJ5Op0gklIiSGAmdNULQeDxJk7Qxrbdh2F85ON5dW18BBKHU0fEYAJxjJVQcJwDsjd3a2DyajEwwAECEv\\u002fGOr\\u002f2qr\\u002fsPbdOsrqwtFnMAMNa+9BV\\u002f9Od\\u002f+Oqv\\u002fNpfquta5ri6MTgZj41DHaluZ2U6nq2trhzsH5R1kWTRbLaQQvT7vZPJCAAWixl0\\u002fGQyieJksThRQnPwaZo\\u002fcP\\u002fFg6OjOFZVUUmppFDloup3hhRgfWPbeT+bT7v9LocAAFIRSc2Bz54+W1XVt3\\u002fbH\\u002f7CL37FS7\\u002f999fW1kfjCXhGIgIwxvZ6nY2NbefN7\\u002fzKv\\u002f4X3\\u002fYfjXGHhyfeh2JRtE2T5wkAXLt+DSGyTkhS7D0jGueTPG8XZZrmAFCWVZ53kySezmbj0SRJ02a\\u002f9cELIRlQK52k3dls1u3mSRJJIceT0QoAhfjMzn2A0DbVjaObvUFn89TpEPzR8dFsPs67CgAm88OT4wUwxrFGAAB4wUcigAj+F4oBAGCxDQpgBQCQsNPt1k15fDxqW+fc3gDSxbyMkxj7uH+wf+Pa9XP3natrk3XSxaJS\\u002fcQ5l6bJxx6tAthPf3IAAADjq4\\u002fpOErWVzdu3tyPIoUkJHIACP1+98Mf+cDG9qb3RgoVRfEzV57pdvLz584ew8na+ubByThOkyTPXHA2uLX1NbtfVU0phIh0ZJ0RkgL7\\u002fYODfn+138sBgAPaYKuqEgTbGxtt04QQEAEBgQEAFrOZFAIZlJCr62tNW1+5chUAgofALBQBBh9Iy443\\u002fng67XXyo4PDd\\u002f35q7\\u002foy9+ipEzTtGlaZ33TtAAwn5eIst8dHh4fCaK6mGV52um6spnlHdVNVt\\u002fxs1\\u002fztf\\u002fiV6aT2bkz57wJ7DkEto7zpNPMqqapAMCWlsl779Msc97fvHkTAK7fuokKOIRhtzetC8QQxZFz7qnLlxkcAJyMRgAEIBjQefYeNzZ3ACDJMuRYIrnGBbbOe8HBOt7a3BgdnwDAZDyVUva63f2DkVay0+nXJydSSkAInqVMynkZR2lVVEdHR2VZCyEBgAS2TeXZJIna3F5tTXN8ctzpdNO0k+fdmzcPejBIkpRhMegPnXVSEgB8+IXV6TOnnrr8VGBOs9wE4NagAQBWEYBG9tzJs7zTIYVEBsnOFwuAdDAYllVBEhfFbHtzZ1HM4kTPiykEUTcFM4\\u002fGI8++sdX7H603t1cnk\\u002fmnf2wFAADqbei\\u002f+6FjKYUEDETh4sUzRycHWaaHw7xYlK0JK6vD2Wx69eq1zZWtNO2gmAspGJmkkJE6PDyYLWYBPArsdvPZdH5qZydJ4svjy5PRZL85BoD3vOtVn\\u002fV5b2nqMsuSKI5C4FODncu71wOHv\\u002fq9l\\u002f7jr\\u002f+VclE+9rwXIsq9vd1et2dHtqqaz\\u002f28n\\u002frrd73607\\u002fgp4BE1s0zjCXmbd2s9PPg3X\\u002f\\u002fb9\\u002fyrS\\u002f7b6srA+NM2zaz+bRpdBxFAJDGuSQtKIpEtjIczsWibMvP\\u002f9aX\\u002fdef+OFhb7VctL\\u002f18Y2v+bevhefoL97884Ro2zbPciahtAKAKMuDc1Z4Rsw6+apf+7Zv\\u002fYNveMPr7nABwB\\u002f83Fuu37jR6\\u002fZ2tnfe+eav\\u002fKKv\\u002fqmd09vHxyfFonzpG37qza98xcb6zrPP3ACAb\\u002f7hn7jD9Y7v+gHHwRjjkcuyVEL91sc3Xv6TP3N3XIA\\u002fesfbj08mzjpr22F\\u002f7eRwNuyuHR7u9vIOIiFCnmcAsy\\u002f8jn9zL9e7fvnnkzip6\\u002fZg\\u002f1hIVdcOAHZvnQipG9u85A3\\u002f\\u002fnd\\u002f4s0AJTNeuXLtu3\\u002f2f5nx517xfc7avJNVpkqydLFYTItx3knaxuZZFwkAoGnLKBI3blxJ83g8GQd0w9Vep59655SM57NqvpjneccHME1z6+YhMPzVfYXSkfchjpPPemLtPY+cSO9NrOR8PmV2TV2srfU6WXp8NBKIn\\u002fKCFx0dHPf7K4ACiYAQEBmCUqpp2iiOPDjP\\u002fmh0JEnWRVtXzamt001ttHQA8NVf9xvvftcrAeAbvum\\u002fAuHK2poFBoC\\u002f+72X\\u002fL1\\u002f9PMXT212H0gFUQih3x9IqYSUzBgr8dVf+6vv+4tXA8CXfOVb4iRPNCEyMvzOf\\u002foX3\\u002fay32uacr6YOe9ssFJRt9ux1gFA0zRt04yOT6xxWZpJFXIZAUCWDT7rG18KAO\\u002f6+V\\u002f8hbd\\u002fFQC8\\u002fJV\\u002faE37Ba966V+8+R1t26bd7G1v\\u002fzIAeNkr\\u002frvUcWCSSgICIn7Z\\u002f\\u002f0yAPi17\\u002f+BP\\u002fq9lwPAV\\u002f7zX8yy5B+98jW\\u002f+qPfd3xy9N\\u002f\\u002f80s+60t\\u002fgjEcHR0xo440AAghb9zcfcVP\\u002f\\u002fRvfRze+B3fnsY9ybEiPHN658qN60oJY8tXvfntAPD1jx5+6de91RmXJlknz4py\\u002fi\\u002f+7Y8AwDu+73vy3lCgFMACotM758ej48HWcDAYfsF3fON74fX\\u002f7xvf1O2p6WIa6UQp+tKXfs9f\\u002f+o7qqrMknRtc9M7BzDLss7JeCylBIBIaYDypW\\u002f6MQB4y6u+O0m1D8GBCrV95c++8c\\u002fe9qtH41tZb208GpMgHyAwb2ysjsdTEgIA0jTywUqhJEmMlPV2NivSPCkWlcCGmZlRCLm+vml80zYm1no2mwIDMzN7AEjTTIJvi8I89cz102c2JpP5oNdbX1tpm0YJKVAdHZ5sb50PjABMxCE4IsEu7Jw5fTI50rEYTY\\u002fjJJ5P5npTdbIuQzCttcYBwNb65ld9za+1pvqjP3gJ3KUv+uyvfieEEAKXddVJB4aNsU1VFv1uf9fv9ns9Jv1ZX\\u002f42JP+3f\\u002fDKexjhW17yh9Y2iGI2W\\u002fSGfQhCCHEynq4MVgBAy0QgFs3i3Pmz+8d7BAKRAeAffOcrf+HVr+mkHefdl\\u002f2jnzt\\u002f7tzP\\u002f+w\\u002fBACAQ3jVS77+0UMAePl3\\u002fw92gUD61jobgAN493mv+rY\\u002fe9PPOhmA3D\\u002f7N792cHT4rj\\u002f4ntuMP\\u002fTjX\\u002f\\u002fo4Rf947fqRKVpOh6PpVBN3QAAh\\u002fBdb37LW1\\u002f9yvf8yff9PxcvTidFtXBK6Bu7ex6sIFYyAoB3fP9rvv73vqepG9PWWkOWD+Ns7S9+6Z1f8M3f2tSV956CWx1sxrFw3iIyEn\\u002f+S77pD9\\u002f486tfAmur63uHVza311zwEuX\\u002ffOdPffG3vvrPf+ltjx8+ZZx93nvTpz\\u002fPnZyMGMlbDwDGmRf\\u002f6Q+890te\\u002f\\u002f7HpuxtWThGoZKoNS0AAPFoPAJi73h1fbCouG3srVv7eZ5ZawFASoxkksb54d64LeskSRzYum6athGoFSkS0jlrFrX1DZEYTwpkwsAIWFX1ex72n\\u002fn4AE\\u002ff163r1llvjBsMu1VVZnl67szZg70DSXpr\\u002fXSWdQHw6RtXT+ZjFcfAANa96KFHDk72xpOT8xfOjkfj9bX1clHM5gUCSyE21s+8\\u002fWe+6BWv+puyLJxrxuPjYX9FCL13cjRpKxFpLbgbyXq6OLt9flFVRHR8eGSN7Xa7WomWoaLA3ArbBODxSc2ezp3ZJhGU0JPJ5PSZM89ev6rjeDqbRHEUKSVJtEWthLx0\\u002f\\u002f2j2SjpphJAafE53\\u002fztf\\u002fVL\\u002f2E2LRBEnCbPPnu51+vubG0AeCBSIvqMb\\u002fzGv3r7O69dvXb21BnnglKRJCgX8y\\u002f5vlf+5ZveemtvN9\\u002foThcTFSVF1WgtrDMrw+E\\u002fec33\\u002f+aPve7o+CRJMmPaEMLSRnzHG98IAG955SuQwqmdHQCeT5tybiWKEMCTDWS\\u002f66d\\u002f+s2vekWWpFGk+\\u002f1u05R1XW5tbjWmLYqy3x98xcu++6df\\u002frJEdzfXdtIkM7be29\\u002f79p\\u002f6sf\\u002fyI2+Ko3jjz2fmn+6M5wdCQZymYANjmBXzr33N6\\u002f7Lm15vrL3\\u002fL9QHP3WCIEgob93LfuInAODXfvh1D7xb\\u002fN3DR0IIQFFUTT4cLkajXKUvf+ub\\u002fuMP\\u002fUAAfvg9yYdfNPbglI5M6xDROfcZH1v\\u002f8KfOjo4W3Vw5wwJiAg7kUYN3zA4J6LOfGX7g4cr4emNr7fj4ROuorY133jorlQKAz316lRB4ZTjo9\\u002fpnTp1hTyvDVaXUjZs3mqZpm7auSmZf16U1rZAyMAMhA1tvy2oWx2I+nayvrTZ1fXw8UkKXRSVISaEAAEimWd7t9Vpjbu3uHR8fex84MCIEDkKKELxUsmqayWSSpWmepqurK54g63batrHWKaU7eWd1ZVVKuahmWSeu6qrb7c5mszOnzpjGcKAkyryHEAAYLp67uL97cLB73Jbu5GhUVS0ABM9NUzemLMpJmkcbGyvMzlo7L8p5MQcAJaILZ+\\u002fXMkl0LAhRUdxJAMDLsLKznsT5IB\\u002f2ksHW8FRoUOvo5s29d7z2lf\\u002fy+384inVVVwGYpBBShcAAAABr62tpmh4cHdZtwxziKEYk5z0CNlULABBEsEyATd0gU5pkV69evXXrVlVXi8X0V3\\u002fktVGkO53Musaza33NGABgUZRxkgCA\\u002fi+7g\\u002f7KzZt7i3mhIyEVrq0OAKAo5vf\\u002fhXr\\u002fpxxneR4A2rY1pgWAn3v1q1pXf\\u002fRTZ5\\u002fx+DoAhxDOnz\\u002fvve\\u002f3+23bAkCn03n4PcnjLzbeAQeu68Y7HxwDCwCoS5slyjkGJu88AAoS3nqttPd+GZo455Ikcd4LIUxrQggMrLVaPhAAoOBhOplXVSUE9PsdKaQkmUTJuTP3sxdpmoXAx8fHiMQBGJAZiPBkdNzpdJz15bweHU+Ojk62NrfWVtc6eWd9bX05NCKgIEZYlIX1dlEUbdsSIDOHANPJzDpfFGVVlFrKLEm2d7bKulzbXLu1d0sIrVUagqzLcPrUGUCHxEfHhyS5rGdCBSCztTk8d3rr5PhwOp4sZqUPwVibRMnDDz7SzXq2DVXVAAAAZ1myMuglUXRm6xSxKMblYlSnlEWQ\\u002fvFPvv0zv\\u002f1fCZ2Q0iiFjGTVtp\\u002f7nd\\u002f+e2\\u002f48YUpbx3vX7lxY1HX48nk4GAfCeM4vXDh3PbWNgDkeTZY6WstWlNbb61rAeDNr3zl8fFJXbet9dPpoixqBGxNGzhIJdM0e\\u002f03f\\u002furfubNL3nTT1RVXRWlNU5RJEhfvHCJGYbDFaXUuXPnZsW00+984MMfnhXTl\\u002fzkj\\u002f\\u002fya\\u002f8dkdjd2wWAvS+Mo98+etFHNrSMbXCtbQWK\\u002f\\u002fmLb37k3d33PLrb6\\u002faKRdHUdQjh7PlzAKAjaX0bJdEHXzD6tI+vvvgTw8OjfWZYXV3PshwAdv7Efuj5U0IVPDrLF89f7ORdrSNgBIAsy5I0kVL44BBZSimEIKIQAgfw3r\\u002f7vtlnXO6+8CNpURSbm5sAkMSJ9x4APvfp1c99evVvHjiR1oUkSpl5b\\u002f+WiuSwP1hbXSkWlWlsU5tIR21VmdYwMjMgAAMHDvPZDCh4h\\u002fdfuvTkk08mWfrMs8889NDDaZbs7+9vb51dShoz7+7vBQ7BhziNamsYOTAgAgNEUXywf5imKTITolRyPB0fTA6FjIDBGl8uitXhmrGmP+jmeeS9TbOkNZVORFXPldCEMOh0y7JVUnfS6OBgn21YXVkNwKe3z944uA4Ajz\\u002f5ySSKNla39vYO2KNEeujSg1VryCEJ2etkAADBW2cXxbQ\\u002f7GZZCgD\\u002f6LXfB\\u002f\\u002ffaDw6EUpKJYbDrpLxbDoHAK21ddY6x4SAwjlf2AoBkiTOO8loctLtdn\\u002fhe79fSP72n3jjcpy3vvzlSSc9OjzRMrlxfRcA9\\u002fef2tk+dWt3V2o6e\\u002fYMAAgp0yg9Od4HyIuybv\\u002fpTmkWq7+\\u002feG4tMwXw4j\\u002f9gckDbz08OpRCaKmcD85YALDOrW6snRwe+8Af+ZT5bLH4vMs7AACwOAPpe+H1H31BAUzb2zvTJyYoxOWnn7YGpABnGQDm8\\u002fkDD94vpbj27I1y3j7y0EMff\\u002fITcZyUZSVIICIhvuf+GSl48eM9gPo0LFG0FACOv3JwcHioJMkL913YvbabJPHG9n2NLdqmHs+OJcUBrI5FY5rDw0MkBGZYol4IQgqpRFu7KIo\\u002f+cTj29tbzrVI\\u002ffliPB6NiBUhwXPfLotCC5noBAklkaeAggigk3baWem8S+K4Kkpmts52ul2p6eBkEqxZG6yKbv\\u002fk+GS4NmidWYk6hCqSspd16qrlgPN5UZdtJ+1zS51Oh73b2t6Ko8iYRutYCLXW3wCAbtZFCt7ZtnVKRkQqBEjS9Mknn9jY2MwhAMDB\\u002fu6g3+908qquGAEA\\u002fvCNb9axvnrjSm1tp9sRQsxncwQ6d\\u002f5UFCXXr99omloJXdf16tpGkqS7N4+cDQBQ17VSMoqUC8E5p+PY1iCIkLEui6IohFAh+DSJ3vaaV\\u002fd6XUX08re+FZ6jX\\u002fy3r93a3GRPh3snq6tbUVRcu34FAITguqqWIW2kk8vPPKNiPvhM2Npau3b1+kMPPnx0dPzi18JsOqvK2lpLJIFhb28fAJSK93YPFMlutzebjfu97D3Pn4gor2cL4cKr3\\u002fGW9zffw8RFOUcJLgQUtLKaA6Np3YdfVADgk088tbq60u11p6M9HxwBVlWFBJ4BARDBOWdD+JsHTghI66iuq3Pnzh0eHTTN\\u002fubm5oULj9DNmzeZuNvraq2V0mmeeQ5EMF9Mh6sDY4xzLooiAGDmJcBKUpZN7YM\\u002ffWZndW0wX0wOjw69tcP+QGvtjOFgAQDYc\\u002fBxFCmpzp0\\u002ff+rUqTzvLKHa4D0wp2ly8eKFwWBw9tzZRVkqrfrDHiKsra5547Y2NiejURLHB\\u002fv7wbnpZGRNXS5mSmKepd1+X4CUrJqiiUS0mC7Asant8dGJjlMXWCiVd3oAwJ4ilQZmxgAUVCI8OJIyTbL9W7uR0gCgpYyjhFDlnaEgBQArK2t7N\\u002ffQYSS1lspaqyPZH+TOuY9\\u002f\\u002fOMPXrp06tQOIu5sn5qOi098\\u002fGpdtXnWAQC87Rj4NEmDD6Y1SsrlKdWRjCIZx5Gznkg0bVvUxbSYve17XvGL\\u002f\\u002fbVf\\u002fkr7\\u002fyV1\\u002f3At\\u002f37N3zyyafSLDt96kKkEsJw4dwZAHC21VppqQGgrpsQwsrKupT6qcuX4yS+duN61TQA0OsOrbX9Xl8pqSO1POwILAXdf+FiURRxnDRNm6apczZNEyICACXjOE6vXrtmreeAwXIcpcGHpq4WxQIApdDzRVFVdd5N9w\\u002f2Q2BBqpN3lZLBO2RGgDROtNJxHCdp1B90FsXYuTqOo7qur127LtvWSKFmi7mocFFMjTNb29ujoxMtkoP9\\u002fTztShRKKWwbIgJAYG7qJjT1oJNffvrJKJJJkkpFedY5Pj7J087x\\u002fujo+AgAALwQECmpBwPvPEqplAqBgw+CSOto2O808ybJxMHhiZDSeDtdTIwx43HpLX70ox+JlTh\\u002f7sx4MWkP5sOVnretkqrf7dw4OFjb3LbOeueSKK7KGgVi4F6v19oUiGREwEEQAcC5Mxd8cEi8sXW6LMs0TtgFDiwFaa0BAQAODw8HK6sg5cnhUb\\u002fXAYAnPvYJQLh44eLV3eu3bh2cPbfdNOC9a9piZTVfVOPJ9JjZF0UZ6fRFL7z\\u002f2pVrRbEAgMBBCcXs2rat6zaPtGktQpA6RHGitWzqVglVlfXKynBezNrWEEFv0B9NT5q2AoA4ptl82t\\u002fecJZD8JIEAEhJSsrgBIBv2\\u002fb8feevXH9aabW2tn5m+8wz166MRhMA2N29tTIctm0TOHAI\\u002fX4PAIwxsYqm44kUkjkgkTVWCu2aVikBAPP5XMZCx6qxLSEiy4O9QyIiklmWeh+857ou+91eGsfloiYh54upaRtBEQIyg3MODbpgu91ep5t5b6QQ1plIJyurqyEE8gFIyMl0fnQ0IlCK4v1bh8FhW5s86zRNk6apszaEEDh4703TahICQAihI6EiGgy7Ozs7w+Hq6trmoqyljo9HJ5\\u002f\\u002fRT\\u002fz9OUn67qczWadTifLM620805IAYgEFDw88\\u002fRVQNzd2xVCMMCiKIxrp4tpkiaA2O\\u002f3s052PD4AtNZ7JBiuDju9DnPodzuz8SjJtRfOBkMCBRIgA5GKdFWVwVsgaOoKACSpJM21jCBAnvUINaICxCTNXHAv\\u002fvZ\\u002f+Xfv\\u002fM2ds2cc8uHBXpIlN69deffPvfNf\\u002f8wbokQ9feUyI2\\u002fvrE2n00hFWZwB03C4Op8vpNRRlFRlOR5Nb964GUV6+c601hw4eHDW51nqfYi0VlIFDgwhy5L777+PGU5vn0JG74OUmoNoqnZ\\u002fd88a+\\u002fPf95pX\\u002fvTbTp\\u002fatK5CwVne2Ts6ecf3vvobfvSHrXeNaQEgz3Nj2l4\\u002f7w+6tvW39vdWV1Zf\\u002fda3\\u002fdHP\\u002f0ynGw+GXUCOo2hjfb2sFgCAIGOVIxP70FoLgD4wMwkhjDEAoLXSkaqaCjAAs7cOAkmhm8bWdW1s2+vmQojDw6Mb13fLqq6bptfprgxXmENgRBJRFHl2K2uDslrcvHHt5s3dmzf3ikUzn5XXrl6vqkoqIbwzRACMRVkjIhJ6Zi2Es77T7akoOjw8EkkECBy4LVsVqSzJhCAElcTJ0fFIyWjhyt\\u002f9z98E\\u002f1v0spf+SWNt0c7ybqexrqktC+4OOqZYkApVU2kdq0g5j\\u002fu7+4Nuj4GFlFkWA9BsUgcMkdYMAMiIpCO9mM97vcHS3B8dHnrvBINH1EnCAfr9vhBYldXSj0RBh8dHZ7JkbX2VvUmSZH9vDwCyLEMtfXDTyazb74XgJ5PFYG2FAxSL8pt\\u002f7E0\\u002f9Z0vTeJssSiZZ0orIREAVERSqqpqvbcYRBqnwQatZZInTV2ura985cu\\u002f6w3f+lJBOBz0UYXj45GUumkqqbQxdjFfAAAz7x\\u002ftlaWLE3VwcIiMAFDWlfcBAJq28eN6+8x6XZdaqX6308kyAHjmmacHq8OiKlUcTSdzJMGBAcBZW8wX5x5+aFLM2QQZRbWxSqY+eBISAPI8n1XTOIp8sKsrq03VlmXNDN4H01ql1OHRcX\\u002fQr4oykLPWM6O1rhoXwJIAkNCHsH1qu6yK7Z0tAD8ZT+q6JRQhBEI4Pj4hgSwFAnsGICGElGmWkhBSqY3NjUjr8XSytOIA4K1Dz9WivHjxolCyruu6NkpE5eJ\\u002fX8gA4O0\\u002f\\u002f6V5rzeZza7fuD6fL6y1pOWNWzdGJ8cMPsszY42Q8tqNWypKJvPFvKjn8+LGzVuj6STtpGkv88gBAAABQJCsqto7vxz8q37wVZvr66srKzvbp1aHa+sbGzqOiahYLL7xp3\\u002f0Pb\\u002f4G8H6pjaXn37m2s0bf\\u002ff+DxZNlffyd37nK7\\u002fqB14bxZFzPk2zqqxm01kIYTFfnJyMvvnH3vRf3\\u002fTjcZwWi3J9bfjo8x5++KEHdk5tA0DT1OPJ2JhGCAGAddUIwvvuv39nZ3MymT377FUAiJOoqMtPPv5klkaXLp3n4CIdN42x3md5CgCtMSRFlOjjk4nWAgl++ftf980\\u002f8UOICAAcgnN+PJoeH530B90okp\\u002f9Td\\u002f2qz\\u002f8vfdfuhRFkfW+qtu6sfNZ4T0DQHD+oYceWiyqYl4GG+qi8Q5CCMyemQGgNS0wIBCRtNZNZ1PrrVQyiqLN9a22Nt6G2WRqWpPEKREhknUu0hEiIgASKCWqqpzP59eu3Vws62KkROQQnHPGmEYKiSSIRDyfF0JoAKjqWpGsqurAHRKIEDiEoLVm621jgnVa4M0b173wO6dPXbtydX1149TOmeVL\\u002fd8mY5qyLDxwrzuYTIs0iiSH09vbhZ0ykg\\u002f+6Hi0c+r0jZs3+51eXVZpmhsftFIObd02ilQkIkA62D+om1pLeeXateFwBQDe\\u002ffZf\\u002f6yXfSMAvPc\\u002f\\u002fOflewJgJPqmt\\u002fzoe3\\u002fpv5CQT1++jAJqUwVh8pW0sMXs1qTT7\\u002f3GD\\u002f\\u002fAN7zu9QDw8695tXd+tb\\u002fS1I0E9Q2v\\u002f9Ff\\u002f8EfbFrjW9\\u002fNO8N+9\\u002fDgoG6qpVFLk4ygFVJa6wVKQGhac+vmzfWtYRzFjv2bX\\u002fHdr\\u002frZtwDAr\\u002f7gj1RFLUjcd9+F3VsHgPTqN78VAP70nT8bJ3qF1HhSRjGtrA6cCejVr3zv6771p173Xng9oYgjvba2tr4xdNZ8wbe8\\u002fH+89afn87KsrwAGHSeEQsvIOz61vQMAhOKZZ549f+Z8FMXOO2AMgW5LCBEAeO8AybsQJdF4PDl16vSt3VtNU9e1PTo+jqO0rhog3NnerspKK29ssNZCpAhBECIwc2iaGoCTJNFST6eT1dU1Ztjc3JhMRiejE1mWdZqnAKiiSAqtI1ksFpZdpKLgAwMyAAISkXcew\\u002fI1AXPIO9nBwf765vr4eLQ080v6wi\\u002f7WfYAIKxzQlCw7h983qdJEaeRWul22JqNtY3rt3ajNDkc7X33D3\\u002fukutgbzeN4saFqqgkSUKShOw8W56XC2fZmWAae2p7JzhezIrReGq9I2c2tza9s82i1kCAGMVRHMdJHDNBFCcA4AP\\u002f1vf86Pap7c\\u002f\\u002frm+5s0gA+JXv+sH7L92PAuM0UjHev3MGhQdiZ33btlLp3b39X\\u002frB\\u002f9s5\\u002f9Kf\\u002fKl7Gf\\u002f0zT9LHkMTIorAh6asfPDOOSEEACxmZQisNRMpJTUHhsDeuVu3dpvWevadTv6Lr33tZFJ87y\\u002f83L3DAsCvv\\u002f4HO1mqIxWCa1sTx1Gex4Ch2+uMDmbdTu8v3\\u002fYfF28Y\\u002fOs3fse9XL\\u002f94z\\u002fU1P7s2YtHJ8dIfjYvEASxlCjXhqsAEOlkc2MjSaOdU1tHJ0fBsW0dEgLAMh8gBPoQsjyXSjvrj46Olihgv59L0lncyU9lTz97eW9\\u002fX5DIssyYilD0Or3xeEpI1to4jYTCpq2JoNfvnZycTMbjU6fPXLnyrBAUJ7EMTIRqMplYz0oZbWXdtI8973nPXn42kvESBGPmwIxISgvwLCT3h4PKFEKQMQ1KaF19Z9vO2U7arRoTRbosyi\\u002f5zOePD48vXXrAt40WPknipj1+6NJO3dhB9+wdLtPU7P2ZU6enk\\u002fJkMrPGSkGDbn+xP3WtJxCS9LNPXTl34fR8tqgbEwCV1qdObx6d7BPRxfsu7F+9FTAwB++Djrok5dI7efLyU\\u002fddvFBV5Xt+8T8hCQQABG9t8N479+STlx959BFBAYRlCIAciNM0Lqs6z7PxeNztdX7nDa+bHI6f\\u002f8BjbMJodLyoyyROggpta0hSVVRbZ3aeuXZ1OOz93Ku\\u002fu23cYNAjQut9WRYyyDROWtMkecwBrHVIrBQmWfQT3\\u002fId\\u002fV4nYCiqkkR49LGHiaDX7WkpAWgyud4as1hU91\\u002faGf5OvQ4aoAa4mQC8F15\\u002f57kBwPkv0QAAUG5CCgAAnXs+vPVeeP0LPpYCzABm2wDbkN\\u002fzaQ+g9154\\u002fac83gWAxz\\u002fTVHVVVc3ayspsMVVKSikiGZ86dSqO4meuPc0ErW2hZGucUvro6FirKAS2zjWm6Q96kY6LohpPRoABBcaRrspSaimkkFqp4cowQKjrNomzpm7OnTu9f7ibZAk4AiCBmESxYRbitg21xu\\u002ff3I8ylSSxFGL7\\u002fNaV61furH3Q68VxXlZHQgjv3Gg6i6W+\\u002fNTj5y+c2zs6vnTxwnh\\u002fVE\\u002fmsY46nZU7XI6DjPWtvd3AAAJQgAc\\u002fLSdxFk\\u002fL2hu7mFYPXLpUlgsVqZTYWO+M2b2xt7a6Mh9Nrj95PVICbDsc9p33RAgQlkf20cce2929JRhJSEBc+nAuWFTJ7uHJ81\\u002f0gvHksChmWaqHq30PsCjmiGI8XeRpTgBtVfbW13cefYARmqoabq3AiGbT+dbW5uHxEYMgxCvP3lBaNXXrrN3YGFZVRYg+gBRSCN20NolVWbckRETaGVsuGklRlued7nAxnwqmbqcDAdbXNk7GE4EwHK6UiypNewJx+DvL7Nn\\u002fcXr4PfrxzyTwCBhWV4dZmt+8tRdC9f4PvVdrLaVQSlqgwLC2sT4ajSQpImqaRkpBSLPpYn1jXSo1mcy2trYGvX7dFMO1walTpxCQECGOohBCVbbB+Uv3X4jjaDFfCCRCIkKtZV1VSOi9t9YCAiGlSXbu9MVg0RsYn8wevO+RO8sloqOjQ6UUIF46v6oifTI+acpZL1bNfHL98pOB\\u002fdH4ZLyYhfhunrXT78ZZDBKHw36cxCREr9\\u002ffPzo6mU7WNjeYeH1rrWoWAQIKSrMs+KCk0jra3z801gkh4jgLjIgopeTboyIAMLOS0hrb1hUED8GBtxw8Qtjc2QT2nU4cJ6QiYV1T1WVdNmXZEErTGq3UfRfvE4ICO2dKy8Z71+v10izbOzxAKYqmnhULIOGsAwAVK6EFKRJKCCEQMAQGYCGkNQYZOAStI63jtrHO+f39fe+dlqqt7NH+yWJaxCpaX90EoDjO5rPKm6VD+f8n6vWiOKamqZqquXr1mlKyrqs41U1bM7Bz3jn\\u002f\\u002fMcem4xHEBgRkzhWSjIwAMRJcnx8XFWN92Fv9+DpZ67MZotFUTz77JWDw0Ppvbl69UpRVnEcA4Qnn3zCBTfoD9nCoNsbTUbzuhAoJESB2fvgnBVCrK9vcBDzaXnfxQtFUbTl7eAOAE6ORyS1sVZJZT0XZZnESSL9\\u002fPDoJ3\\u002foR97whtd\\u002f1vM\\u002f+2B\\u002f\\u002f+ToaH48BlhbculI7968ITSmWXJ4PNFZVNS18+HSQ\\u002fcfHo1IUUAvIpKkmHF\\u002f\\u002f4gDJnnaNM32qe3VwcAs3PHeCaICEAjMyLysPgMAhI3NjStPPl2XpSBs6jrPs2I6DrZNlQjeQuA0SYVE5zlJsnQ7H8\\u002fm4\\u002fG0tW0cyfm86GYpUDC+BRGC81Ec+8AkVet8G1zdGqmEJBqPp0KB9db7cObUmaP9ESCQWMIcZXfQKcpFcMJ7buq22xlOZzMpyXu3sb4+m5cIamW4Zl27f7i3srq6c2rnicev8BJHBgCAJ17ke3ne768kSTKejm\\u002fsXeuv9qSMjo4O28Zqncxnxdap023NrrHWtF6ZrJcXRzMX2gcfunhwfLMzyG9c29dKBNJJZ8UuCul9nmUPf\\u002fD2gd\\u002fdu3XpvucdH42m0xkhmbYVCFrrpm6CDySEktHHPvqxNEmLRRFpXVcVMHjvnXfWW0TwbQBg4wORdy70u32p1Gw6k91u3rQuihJrbekKQUKrqCqqVKXeWg4hiRNiBEAhBEsGKQlwPi93Tg+0Vlqpbrd3cjy+8zgIBSEBofMuoGpMC4HX+qumtUl3oBg\\u002f\\u002fL73n1rb\\u002fKav\\u002fmdzEyxcXXI1jUnTvDblfL4QQjJzY1qlxP7BQVHUzllgzrPs+GSkVVwuik6n671L0vjw+EBJ2L1+cHbzvBDEzEiIRLB0xQCIaO\\u002fatWI6mc+mTLeDLO+CEPTUk08+8ND9QsYIMC\\u002fnSZ4e7B2d2t7s5XmxqLTQzG42mTA4QdDNu1Vojo5OnDuxHhrnAkAcJ4AEyATQ7\\u002fZQMApghtHxKDhGIEL0wSmlTNtEWjtrJ6MZM8\\u002fsAhEDB2ZxfDJaXduYTEdHxyerq32l1a3dm1rnvV6Hg7vzYAHROXf1+pWHHnx4uLJyPD6syrq1CxJqdXVw68b+YH3QNDUhIhmlg3UwG9edKNGpVCpqG9ccjbvdVKKaVcZ7j4haqSSKAZ5TEz6+8vQthhCrGAIqrb333gYh5BIM8z44ZwIDEDZtKwS64EkIJdB5xwiR1Hknb0xjrTHWttOWA\\u002fd6PQII1rTOekEiBDbGWmM5cKQlESipkzjt9fshMJGgJZ6LuLW98\\u002fgTnzx34ayQ0NTF1tbm3ccBCICBGYlu7hZ129bGPfHsjfG4eNcf\\u002ftGnf9qLR2396Oe8WOXJ+uZdrrpqTOMI1GxWdPIeAERx1DpjmiZWkRY60enxwbEWEj1vrW9EsWb21rZRpMazk24\\u002fS\\u002fM4sGVvAcD7cDuzB8DWCuaLF85fuHBeSu2ZQOi009Vx6hxfe\\u002fa6M248OinKeaTF1ubadDGaLyandrbX19dXV9a2t7a6eacoq7Juq7odL+azsjDeGeva1jRlFbxDAAbs5j2F6sz26YtnzmtUWkVa6RB8CF5HWiqhlIrjREqplErThDkEH5z1bWMODverqhqNJ1evX59OFt5TUTSTydy551wAAGDw3nU6aWvqqipPnT7trE2y2FpzcnLsnAsWy8aVbdsGZ5mjKOpq3VXJl37uF3fzLjMxY1HUi6JiRkISRFrp6XR6Zwbbkvewsb5WllWv21tf3YyjXKuEGb0PgQNzUEoBEQnhgT3fXp73QUjJgQOHsiw2NjYAwTrb1m2v25vPFlSWoTVBSRHpiBnTPBdS4e20DCOC1qppG0QIwXsXMAAELyhEmWxtsyjKNO3M5ncKVACVRERi5BCIgAjbpukk6WOPvOC3f+8Pr944+YHXfN\\u002fp09vOG8F3rW0UJYAgSbPDxjgppK3bQadnGydAOcO3buyPjifz8aKTd5h98E7FNFjtIQkOsqrrG\\u002ftXx8UJJoIxCCUBGDgAACITBgxBkehkWZakkVJSoETq5h2p4nkx76\\u002f01jaHRbuw7IuqDCEQIQeuK6OUOD48WumvRSKdjIr7L97XG3ZRwpnTZzCIEEigZAcatML4wplLMXUkJ4889AJvuZN3lz0y0\\u002fm8qtrxaNLvD+IkCQAohLceHBNJICGlJqnbNoyPi2ruJwelrQI776y984iYQ5J1qsp\\u002f9KOPHx4cS1TVohkdTZGlbbk36HnjwLfg2bTBM7WNaYNVGh48vfVTb\\u002f1+RgwOpFDMAhwgsxTRdFouCxWXlMSRd3Zv\\u002fwSA2sYa0\\u002fb7PePaJZSVxCkKKYRWQnLwhMF5670PIUglEAIhCxJK6qqsrHNFUa6vbje1tcbLuq4RqdPpjU5OOnlunXHG9AZDIYSpbRonbdMs0Q1TN844DOyRXQgAoW2rfjaIVKzj7r2Pg5lBCBK0sbKxd3D0eZ\\u002f1vPmzex\\u002f72Pt\\u002f7E0\\u002ftrWx8eT73scYVtLOJJTwXMTZmjaOoqIoN1fXRZwdTyeJjvI02dnZPNgfSUmbm2tVGQHiaDSK4ji0jWlcTYY9tcYOuiuxFOPRpC5bKfRwMEQQQPieX\\u002fxP9Xzhl\\u002fYJgEggOARERB1rKaWO9Wh86ERKKghJ1rTMlGT55aefztKuac3kmfHZ0zsMvvGLtItS4\\u002fr68MbNw\\u002f39fWbEgM4EIcg0Zm1lNYmi8Xg0XF01TSuIivksjqL+xsbe4X5RlKd3TvW6vSRJn3jyqUhGkY6Bw6A\\u002fGE9OnGullNZ5ACzL5jNe\\u002fBnXb9woq8bfPYngmVGoKEmr\\u002fQMh1ZNPPe08J0lsGuOdj0g2rWVCDz5SIjibaxXAbW2uVNX8Fd\\u002f5ElpWJwHD8vSBaJsmMPpwO9kDAMWiUDqqqirSqmmb9tiknZyElFJD4KqqAZEZrHEEtMwmEFGkIyGpNa3UioDSJKvLRiJtn9oJwQECIMo4jqwN49HYB1ZatW0jhGibtpZNuSjiJGYItrUqS72x4BkJA\\u002fC1a9eGa\\u002f08ySgg4G1YeUkcAAh8CAC8d7Cnhbp+6+qayL7w73\\u002fx1v1nwLRRGn\\u002f4Qx+8dN\\u002f9jz76aTdhd8lVVzVjm0RxW7VZlBLg6srq0d6tg+M9pTLrrfO2NU3e6VrvVKymxYyD5xATgpJyNDpJhDp16rSW+vO+45vvLOb\\u002fh\\u002fSeX35HIxpEH9hNp1MBqaDItlZIGVyA4MF7YA7OBeeFkE1TdfIOIiglI62t90dHx5PJNIpjZz0HJqT+cHB8chzH2rEpioaEIhDOuU9+8olOt4tAROLOAoyxi0URkEgqpWMAJBLAoJSyrffOMrMNQQNK4NPbm2uD3u7B7vpq\\u002f8qzz2og8LD0JoJnJVQxnqFnDFxWzZ3+4RBC0zSM2LaGlRJCFkWp4sgHNnVLgEDkjdVKbW5t3bp1E4mWRTHzeZFlmXPukYcfPjg8CN7HUTQejU6fPu297eQZNW1trWEAreVsPkECJGxaM5\\u002fNm9a4EIwxQggEAIYl\\u002fpQmaVWWh\\u002fvHx0cn3nsfLMNd9Q6BCQUiEhChcC5cv15fevTFT+yeyP4663TtwtmPH1zHYV7gXSd3fW1NSbW5sRGpqG1N8I6IkAQAOueIqKyrJE2KsqhNe2t\\u002fL+vknV6HJPrgqnLRyZKNjfWqKP4PCRkAfOa\\u002feUk5acbjUZqmDz344LLDApGsdXEUA7C1BgFa0wopSUgSsjVmsSims1lrjPeBhJBCcuBYa0HUmObw+BCIfXAEEoGsDdZ5REySuCgWgUMc3+0g7\\u002fW6xaJQSiml4igyxhBit9cLIego8oGRSGolBMVSdCTVx6NPf\\u002fT5vaS7vb790MWH14arBKRV3Mm65XyBTYvGSADb3MXnhJBEEhgZAJCs801rEMgar3XsfSBGKcTa2urSHyAiIQQHBsamNnne+\\u002fgnPnF4dKi1unDh\\u002fPOf\\u002f6hSGEVyND6iBy7dv7OzxRyQQEoJBNs7251ex4XQ6XXLujTOMUJgXjbk+eBDCGsrK2nccYbLsmLwe7vX76yVAYwxCBBCECSl0F\\u002f+Ff\\u002fA6F6ysvPP\\u002fq9vZdWDbic5vf7S17\\u002ftH7\\u002f8bm30fD731u3v7a2vb0gplxn9pmmdC855BPLOt8YorYqyyPLMedcaW5R109g87SQ6Cda19zyy\\u002fxO0eWq12xsA01NPXa6quihLAFZae\\u002fYkSCrhnO10uz74wBwCMwMJuShKEhKRvAuIlCYpBx6uDBkZBHT7Hamk9yBlJIQgEp1OPhz0Z7Opvw0436ZyMddKKiWAQ12V3TyLtU7SREeRsbasDEVy6d2f3tokH17w8PN8aZvKKpnWhV8ZDLudrvfBeScF9ZN42M17WZLdI8qCaFkwxAGWfhsiIhEANnWTxqkUEpCFEG3bKC0JIQRPRIIEopiMp03bXnrgfiQI7EbjE2uNjuQLX\\u002fSY7OUr1kCv37POBg7Forh5\\u002fWYv76VJUiwWSksiQiTvmREZQQoppOgN+jeuX2Pgbi+\\u002fdv3asnVxSUislGIADoIDElJV1djp5Sp57NFP\\u002f5Ef+Xdf9NVfykosZlPO7gZTWRY5U+Rp0jR1VVSEggMwBwbmYAMzSFnbhYKok3ekUNbaqqx1FMdxbBoTd4fD\\u002fjCJ76a\\u002f\\u002fu4XfhMQmbFqmhc8dN4Ino4tMJE0Qvo07vzpn\\u002f1NU9eEGGsdRTRYS5m8TiIhiAHm82Ixq8tFvbW98RWvevVyzMoaBeqppy8jxUQ8GGSLeQHA7IE9I1DbNLFWEDwSEVCWJlqJENjYUJSNjMgGU9X84KVLk8kJO5cP+j747Y31G7sHHIiDVwq8M7PJNI6S0ts4S+7sqKmt7qUEIU00gD93\\u002fvzNWzfn42J1uKHkXACadpIoOch7g06WCLh669ks70nt9sqT63t7TWNCcNYZ03opMbAXAR17Ie\\u002f6PAFASPIhCCkYYGt9o2iqpX6RUjamVVJ6z9PpLEliQnLeIaGzTkhprXnBi15A0jZ1VZazTnKhl\\u002fTf9773oxLDlZY++OEPPvXUU4vFfDIpz507p1U8HK4JEoRIhFKpwMFaS0QIKIVUSgCGRTEt6nJldfXw5ETqqLxHzkIIzjpe5kSZT5\\u002fZunX9+u71J69fuxKA4s7wr977oV\\u002f7jXcFpCS7m4lzzgUOxhitVX\\u002fQZx\\u002fyJDm9uZ0IvT5ckYAKZSyTM5unitnctq1ScnV1EGlZFQV47mTd4L11dw3xsuIcCa9duxZCsDa0prHOhsBNY6pi\\u002fhVf\\u002fNlf8KnPs60JPtRNc3B4KJU01njvgaHb6a0N16XQdXG3RKBt2qpoBr2BFFJH0nuTxpEktM5ZHxigaWqllbUGEaVAKSjWWkkx6Pe0Ej64pmmLojg6PqrqJs+yalGuDoZrK2tpmk0ncyW1Vom1fObMuSiOl+3Bd2aPIq21LsuSQ\\u002fDeP\\u002fXkk\\u002fPZXKuoLOtYJysra20rTq+sX9jcBuOzKNZxvHdyWFnTHQwmc25b612QUqVJplSEiBxCpOQ9GhO89yEwEVnrhBBRFBEJBoijWAhJSN4HYE6SpK5rBiBCvfQfAOI4fvzxJz72kaefvrwbfPSB93\\u002fyb\\u002f\\u002f2g0nSBaCiKKjb7\\u002faHvTRLNjZ7V68+a4w92D1CJiklILZt65xjZgAgIkAOwZMgreRgMLy5u7coyro2JJepXACAEBiJmNE6n\\u002feyxaxs6nYxG49GRx\\u002f5yMdUlAtJaZqub253+sM7XOfOXXz00ef3+4PrV69xCERYLhZrKyt5kgEHCH6Q9zYHG7Y2pzZ2Up1IFIvZAgOkSeKcnc0mSLSs0F9SlMRSSgBGBCWxnEwV+tAWpizA2LpYjI6PVtfX66ZxIczmcyljZyGNOsF5SVQXhfMmSaJg7r5pZGJHTWWC5+C91gqQW2OctyTIWtPtdtq2CcED8MbG2tIMNU2zv78baQUMzEAkfQiLohQkJcn5dLHs+MjyNIRgjJVSKq2rugLkZXC4pNa2wfskjkLwBJBnaa\\u002fbISQEvHDh4traeqyTczunEp2trG5FnSEmnQbk\\u002fsnsq\\u002f7JP5tMZp1OD1FooREIUAgZOR8IEOGuPlNKExEwLv3IxaJAJA7snFv2pgMDEhljyrL0zjEzieVRQAb0LhDK4CF4ABSMwgZWSpvWyDTPoIK6rpxjISjNIl\\u002fbWEfWWUTw3iOhkhIRmQMAhgAcGFFMJlMGlFJPp\\u002fNlG+BzRMEzQ6irOs5SR1D5xoL2RWkqc+vqlfuft\\u002fLud\\u002f\\u002faP\\u002f0nrwW8i9wASObAgBcvnB9VFSO44A8ODopy4cHmeRKRiJWsWiPAo3fOOFO6plj0hr2QuFk1Hq70lb5rZbyzgDSdzP7hF336ycnRSicH4JPj2Xg01jpiQBPHvY01CzArFiGEqnLjyzcBIc90t9eZjKam9cAij5ZFEAAAkUoFqP29cWDBQG1jQ2CtdWuabp7VddXrZRhgtijSrGusbY1tmtY51+l2b+7uCakCQ6S1tcE5H8eJa\\u002fzJZDL9wAcbE3QcheCRiNk7Z\\u002fr97riak7grBEKKuq7Onj09OjoWRJ0sJylUnGdZBwEODw6sNfvH0wCaQQT0xvmgeiTpv\\u002f3+n12874G6KkkotgEY6rplJWOhAuPq6jpA9dwkyAyICIjeh8Vi4YCTTh6YEXEJyiKDlBIRiZCZkySpqoYBli4ac1BK+uCd9yQFEAiBiFI+8+w1JRER0iRp22ZluDozM0FYGUNCIBGHEJgRYOmoITACPf74UyiEtY7Ien\\u002f7Zqg7xACB2VqHKJGEUIpBGGOShIrJsZkBmQJvX051h4hIZFkn+NsmN+vkx\\u002fNp49rhsOsNcwje+TiKiWSk02euXJEy9uiKoohi4dFVddlVd+UshFCWi7quXWtN2yzqRX\\u002fYu3B6bX6yb2ubdnoyVsnqwAkUiI888tjlp54MzCRkEULblEokSSQgAN6jUabjBQSIdEwqNsYChCiSVVXFOuLg0zQBDovFvJN3i8WiKCtg7uZ5XTdxFOdJVtRtCMwxbm5vF0V5cjJKuwkDqDgxthEkEMHaVhJdv3HNeyelEPfgGj74vJ\\u002f74IMPw+FAaV1WVZrnJOgDH\\u002fiAM\\u002faxhx8ojTfOOfakFXvWpJzn97znwzrW01kxncxICNO2zDBcWXdV2bb1Zqd3R868s855IgKENIkhAAaPiAiwLNVZyr33HhCc98hsjJFS+gDOuqUdCwjeMQmJCEgMyNY5iQG7eX8ymda+iaK4WNRaqmIxT5O0qCoVxRw8ChHYoxCI6E1bVa6TZTKKjo9HzjlCCPcg+8yegerGrKwNFJGH1gZBloCNytRofDw+UL\\u002f727+HyHDPK0QIwKy01hhJYyXSYj4\\u002fGZ8IJeu2cXWAVamTFAQJBcyopPYcokx5bAL7WEc6vt0\\u002fvSSlo76MZ5PrUDptAiq+evXGAw89fPbiA0dHR731oY2kPjV84IXPB88ktNJJVZSxjkkCMrSVEQBCUN69a4vJYafTmc722VghJXLwxisEgWJ9ZTWJk6KoMJASqjSLtm431leR\\u002fZmd7aKowHEkZGFrRDg8PASBgFAuSkCsKxMCtK0liSGEJMnqskl7+WS0iIQCuJ3kjqN0dW1dyoikrI0NQMbYj\\u002fzde+MofuyFn7aYl5PaSClqU2qt2RoIaJyRUnLrvTPd\\u002fmbaKze2N29cftxZe3B4uLUyyNP4+Oi4\\u002f9wGe3meZknW6bRNM58tXAjBB3KBQgASHoBISAEAHEJgH6TAqiilinzwSIiEAgVDQMTgHUCQFCMikJAS5WJWRjKy1i6aOk5UHiXdblcIaq1BRBLChRAAAUEI4RGFELPZnEkgoJQycOgkd42LlBIQrLFKKkRc9q8LIb33xrtcytbAycmcmeF2eS4AAINFBEECCYw1JESn25FKebSMrOLYBUSVeGeljoyxWd5d1NMANkkSRXo+Gcen42W\\u002fxu0BAyESMwyHfbXwtyZjVsknL19xIZyMpufSThZna2unhNKG7UlZrGxtbyM9+9TTOtZ5mihNhLi5tT663SMIALC1tVkWVa\\u002fTqdpWEHnPvV5XKa2VsrYlKWKZ7d66lQ+GQIIETWfTjbWVKNY3bt1UiRIQZCxCsKRkHCVNXQGiEDIAnzq7xRDSJGYXIhVdu3qtMi0zOOPuypmM2Ifjo8PFojg8PJnO5o8+9uDzX\\u002fTC4GE+n5vWee+ZQQgRQmBmHwIIaZxjZq21KIyUVFaLM+cvplJNJofgbG84LOsWYLacoqzKyWwCSIjY7XSyJJnP56YsM6kbYwNz4ABIgcMS8dBap0lSVg0wMDMAMwQODLA0VljXhgQDodze2tnb2zPWJUnacGWNV5lUSo0nJ0CSEDmEJI5r66SUiIRIgQGAmJEDcPBCYFXdMfCAhN55Hzwvpf429GaBQutsJ02dlZNJA4DAd8NDhgaYEEMIniE4Z6ezmXceFUsl86Q7WFsFJts0zjdNa86eP7d3tHsyPqhHBYFA9sYYdU84AgggxWBtlSL5zIcud0+fLcbj1vrG2IOjk+c9\\u002f0UiyE+870Ps\\u002faIq0zhZTGcBxUOPPDCaTNMknk8ngIxKLOxdl+DJ61ed8Z59nKaVaQG4ce20WBBC3sk+8eQTURKVZTl5omiqVgpFhGXdpMZ0Bz0zHq+urPgQxqOZt06QYEYGYmaAMBodSkV1JZVQ6eq6UuLMhfNXbt7IkuyO1l9fWz8+PGpME8fpeLI4f99Ds4pNW4QQIh3XdcWMSok7cVtgDsEtFYFxrICiWI\\u002fHo3R9PYqzFzzwvGt7uz5gr9+5I2dSKRu8ZwYIrTGmaY0xmsT6ytrVmzdJKamFJAo+LL8cxzEihBC8DwFACvLeLTuleelrITEH9iyvX7t57vzZGzdvWNekeeRal6WZcy7POtWyuU8ppVTtPCIAgpACPIew7C8CIQQALze2JA5MJDo9LaX0zgtJSBgQhKDliZM6MQ1wCHhPRA1gAciYVookcAgcjo6PSQjn2iTOGJxzhgOiAAaQmqxrm7qpSyMFZb3s1JkzZVvb+V145fHLn7Q+CJLT+9fOnjtnpIw21rO8e+7CRcd44+au8G566\\u002fBfvfybfvMdv+WBp5NxMRvPEYx1RSMQGAJfvnZl2Xl2Z4kqjX3bBOSs3ymKwgtgRQ6ClwgKWUAQoJRI87SuLDqeL6qyvsEIOo5GkxEieWcFaSEEICBSYO+d+ZzP+VwfDKNHhuDBXjWMbKxd31gHOFjO3jQVIQoZ3X\\u002ff\\u002fZ7jWblwoTaNAwAO0LZtFEXW2qWcKaUQOCKBga117H3lfZSmdV1a21bVokrlgw8975mrV\\u002fQ9tiiKotZZ5gDIxpkszrJO59zZs9eeebbb7wqtGVlJ2bQtIgii1phYaySUSjoffAjIYakOkdF737Q+ilTwTg5WBgcH+1rLLI\\u002fTPJ4eT6REDkFpjdYSkRQyjuNpWYUQQvDBhWUtBCEwYOAw7PfdPYfeew4hoCBCtKEVrIRQSDpSAolUkpxM5w4iZ4OK7hE0tsDSmObG7q1suAIA3jsOFiAAI6B\\u002f+spTgmIOIUmTqiqd94vFnDmEEKyrrM9ARKW9K2dJlnS1rlvz+3\\u002f1wa\\u002f5ey\\u002fe7uZlU2xtnTo+OhAqyZSoTdPMpx\\u002f5kz9rFrMgZdbJF9NxcK0QZNkTIhIGDvduTQglpXLGKqFOjo46vd5oOg2BNzbWj06OozhCIdIsq8vaGS+Edj6AY+uZJHlgBuIAHHA4HLTOME8ESWbM0uyDH\\u002fiQiiiAr8pSSX3u\\u002fMVnnr0CwHsHe6vP4Q7Ou063c3DtVn\\u002fgWjNv2iqKpUTBuHSVyHkDPgAzEQVnCNG3XkhBAAyMwdu6TJWajifR2ipLLtpZ3s3uPe1pmpZNxcyMGFzo9QfB8ejk5OHnXRpNZodHI+PMZDENjoGRgZ1zIomsaZnIhYBEEDiARSQABGQGVkoRs9zYWLOmJyToWDVt0+nki2Ix7PattQhIQFmWkZSAyJ55GXUgAAADAwMATqeTez16QnLB6ygK7JWWzAGBgClSGiDcOjx+0cPPO3X2zL974+v\\u002f1be85B6uwOwRQUrlQ2iaOopF3uk621gbWlM7R846AK7aMoRAQqIgLTRziJPEBwjejCfHdwZsQ1sWpWP0iPMova+\\u002f0nXJ\\u002fo1rO9tnAsi6LmWs2lHb3tr\\u002fe1\\u002f84nf\\u002f5YcCiiRJO1EenCXCJEmdcwgo7kEWTGts6wQKIfTKcFVFaumPVFUVxwkQjiYz9h4ZJSqGwBC8RxTgTOtblkqZ1mU6QWDnHSL4YAURCXIclIicabJ8gAHWVjeuXN8jgNbUANly9vFk0u30Ll58oGla750ktk0rkAAh+JaIgYOOJDOHEAAgTbIQeHk1WNU0hAzBd5O0LEtjrNIpAhMC3iNoCIDgvTcu+Fhmo9H47M4Z2xbe1HGEi3JigvW8vHScnDVay0VRGmdlHAkhAADo9h8CoqAQnG0NhyBb2wDwYrZQjex0O8ycpXmcpCe3dlUUJ5ESUkqlCYl9YB+W4afSKknzYlESEQePePdloCA2DlgEj1EULd9WHAklZNM0Dz\\u002f48OraZmD87\\u002f\\u002f99287iwAAwGwAtHGmrKp+p6OjSIhQVYVAOZvOZERKxnkn7vU6gYPWmpFu3dwt5gut5PHJOEqVta57T2y4ujFApqLx49Hir\\u002f7mg\\u002fKhM5tbq3EnKdraWQbkuipvXL2yc\\u002fZCc333m\\u002f7lP\\u002fn1X\\u002f\\u002fdY2PnrbVtLYhm0wWiIKJ7Q2nvfBSlWikhNHMoq0JIAQGNaUmKtmkjHXkAScq2jgMLEkop5w0RJUlU102WJWxDAJ93krKNL126\\u002f8ozzwQfIFDbND44Z6wEIGBvW5TCmLsHOI7jxaLIukPTls5ZIhFFkRBKKQEhxLG2bZ1oHcdxY5q6qJTCpjHsSUdaZhGmiZTy8PAweNvtZLu3rl269MBv\\u002fPqv\\u002feOv+ad3BM07k8RxLLQHZ2t65MFHgMOT15\\u002feWO+OJ0enz2yC5DjN9m4ejg7GSqgszVpjSJELRkjJzAwOEBiAQBAK4hBp2dSNVFLM59PNzXXjDBGFEKqqMrWJoiRKEqU0ACISIXFg9owAzBxpWVeFIPTOJUns\\u002fd16Dee88y7yNolyZ1slhCBgbyPdzeKUPUwnhVIqSlK+7eMBACA4QNHpZqvr6AWRwBCClsoa732Ihep0U0LF4L2ztTPTeVGVtTFOCtHr9vf3TgTB2TP33RlwPp60pa1bXl3b\\u002fLPf\\u002fwNRTf\\u002fbH\\u002fzXGzee2TveaxoXJ8nB\\u002fp4EnBwdrnfS\\u002fU88\\u002fm3\\u002f+pt+5q0\\u002fV5sSsoRDcN4bYzgE5+5uTQoVx3FVVmkWj4\\u002fHJIP1HgACM7QIwN45SYI9BM9IpKPIO+uce\\u002fjRh\\u002fcP9owxvW6nmBUBYDGfK0V7+zfjNFJCZknWHw60UsDc1C0Jce78uSvXrt5334MAo+XswQdjjPcNs6nrYmtrK47jRdlYa7NIC3ZRpGMlEFwsIOllgZGd88GbqiAp0rRjndve2ppNJovZTEdiPp0\\u002fffnpe\\u002fVZVddM3Ot0UYaxKz768Q8z82PPe0REQmpVVAtSWFZV27RxElNAKUVt7AMPXgjoq6pcX98wpiWBSDibLrp5N4vi1rSCSCKEbpb2ux0gRMLxwTESCRKdbh8A0zRFQhJCEDEDAyzN8qWHHpgtFnEUB89lWdRVeWetzIGBhW+lN0qgFNy25bixrjUbq5tsYTavsk729z73c3\\u002f113\\u002frDhcgeGcDKCDvPJMQ1aKQifbepVkSxypJIq1SKZQz5vhkVMwL27okioNzs8kcCFHC6GR8Zzwd5b6pH3v4vv\\u002f4K2\\u002fvoj8oq0sPPPCJxz88L2bOBudtksarKyuz+UJp3Nu9\\u002foIX\\u002fr1\\u002f\\u002f\\u002fp\\u002fV4r5j3zPD6GS3VifjI6lFJvdrTtj5lluXd3v5W1Tn97ZSrtx0TaC5GQ0ahtjrNFae+sFSu8DA7dN450TEi8\\u002f9VRjGq2i6XiKKCbTKUqywdVtjYCRjqez8sbuvpDSO88hGGvSPA8BD\\u002fYOt+B2IGKd\\u002f\\u002fTnPziq27rGKJJ1XSAyIntvnQlEOFwZJpGMooiZT05OIh0jxKPJWAlCDN7ZYr5I01QKqqsy+Gg6nr\\u002flp996j8sDddM6tmknj1XkedoddmbT8uNPPLW21hUybGxujyfjbiffv\\u002fXUSm8tjZLZbGKtX1tdbV29utKfjKfMSBLb1mipJ6OJ3lwtynm335HMoWmtICUEcgiKZLfXm88W1ppOp5ckGUnhgicpAwcGRkBCqouFYJAIjWv7vY6959CTEKfPrCvnv\\u002fSzP1M4\\u002f\\u002f4Pf7hC0Tpj2TjBdWhW8hX28MEPf4Lvyayxb4WImllJQEoo15ZJEtfNYmd7U2ra39+bL6itpwAkhAwOtEgCNq61sVYBfLff9eBlfE9VYBt0lL3pDT8uvZzWs\\u002fnCpL1Nma1Uu3tnd7ZHx7NqPLn\\u002f4sWbJ8dexnXT9ja6rfOnNy5WZdvpJk1bxbFy3s7r2zE\\u002fAMyrhbVeKVU3pdQ8XczKtlZKATMiEgprPDIGDDrW7ELbNCQoy\\u002fOqqvK0pyPdNq1nH6cJIrANrQkklPNUNS2hSFVsTOm813HsA0ipp\\u002fM5wO0ssA1uvBiVpQgskGQ5LzMVBQpVVSd5L887eZYH16APQigSurbWB5Aqak0rGJVGBGiaxnlf1FWsyJtqNtp\\u002f20\\u002f+9HfAly6naFuPhKPjsWdz5ux2t9uXclEs6rrxk9nJyWRujJViwoHa1ighm6aVkq5euaEiKbVs6raprHUOiQBJCHrq8rXVtZWr1\\u002fZlMa+ddVXVNk05GZ+kadYa47wvyrLX7ZEQiIhEAPBcgguYmRADclWWztnBcFjdvLVcKABwCAJp0MnQh0ypL\\u002f\\u002f8L\\u002fRx8rt\\u002f9qciSUmi805pJKRq0Zr2HtSNOVhHKLTW81k5m84H\\u002fTzWsZDQttX2ziYzHbYT67wNjIxVs4x\\u002fg+cQJVHTtCiogbu1FWmcv\\u002fOd71jpb\\u002f6PP\\u002fqDFz32cNbJrt06On\\u002f+YrDGVIu1jdWqavYOj7\\u002fiq79mUdbW2Q986ANx1ks62T\\u002f559\\u002fw8Sc\\u002f+PRHH1eRlEK69q5\\u002fJhEpknVTIPFsMUWBnU7mvVdKGWM63U6aZtbYyXgSp1pLIUQniuO2bbvDtG2bwJAnSVU3jS0JUccqybt1WbdNw4FJqqZuOYDWMYDXWpvWa30XEWyNKVsznzsLoW7LSChFojZ1rjU7FyvZNmW\\u002fk6KHRVEgobfBAwmlfNPoSEmpQghlWYIk610deF5XcjJ5xXe\\u002fBn779hTWOSFga3VLaBfHWkoRvOt2O1U5T5OYwStJ3jECIpIxFpjztOOtJynno6lSKqAXCkmQ0rqpa6X0Yl7WlaHguSiqxz\\u002f5xHg8HY1mdVWXRcUhaK2tMd61sERjnQVARGQAJJwVi\\u002flsVizmuJzznjgAAJFpa7gaAaWkBIOpamd9U5u2tca40fRkUS2+9Au+dDGZ3GVqWlfVi+m40+sF5vsu3qdJR5QQK2+BPTWV2VrfPrdz8dz2uY3hxvbKeqo0ei8BI1SmagVoiXdL9rRM64WfjKaf\\u002fwWf\\u002f1d\\u002f+9cn44PNzf5nfcaLH33khS\\u002f8lM+hOFo\\u002fd\\u002fa+hx+9\\u002fPQ1ArS2bary4Qfvn4zH5089eHKr\\u002fOEfe53CuJrVtroLJm9tDrNYZUmUplGnmz340KXN9fXVlSECc\\u002fBVVcwX08bUcRpZb2pTjeeTvcO98Wx0eHJYmyqAt87qKErSLMtzZoiUJsA0TgiwbRpnXZIkHFiSWF9dM017bw740edfqmpHRNZY77xzrmnqThTFkjSCbWtFlCZxlqVplnjnojgBIXSSyChCKQOzjLRKoqW+KVo3WlS3jseL9h7DyQBIdV2ura9meQqIi2JRV2UUy8Eg39xcUQqVkgAgBFVlmSTJqe1T1riiKKPlxSYqmk+nnSTuZQlxME3b1m2kYpl3UxXJrc3tZ5++3Ot2Q+BlhIgAJ6MTBu6vrPgQvPfLCAAAgMg5DxCkEkQ0Go3MPW05yyPY7w+AOcsyVGo0mXY7\\u002fZtHJ9udYdvYmsjZoyce\\u002f+R8flefVZPKonAmVE07n82a2qwPh9tbmwxhtR8CB+yKqqzHx1MfwmI6S1D0UF84tzUaj4IJHZnGKm\\u002fN3WX8yA++7r1\\u002f996t9WFRTj7n87\\u002fgr\\u002f\\u002fyLzfXe5sbG\\u002ffd\\u002f0BrfTroXt3dy\\u002fPOzvrWdHx08+aVU2cvzufTJO2cOdUZH15vZ\\u002fOdja2N1WHT3NWRa+tr62ubSkrrjXGGLUiQ48kYAgzzYX8wmM\\u002fnTdtWTe2cCwHiKDl77gwApklydHS0zKY0TVvUZRucIDk\\u002fLlZWNtrWTH0ZfJASmrZGAELZyXKByPc0opSLkkF5bxggMJ8+fXqYpta2Molns8ICtUAn89rU7aKsp0V5MNsTKkJAY1rnXCdLy7py3tvgG2sEk\\u002fOEJI8no7PPTYGCAHi+KJz1bVsfHY2Yg1AU0GWdrK6rNE3LwobAZVlhCJcuXUrTdNtv3jzYnc6mQgpf2yzOJifTKIoiGcW9FBiKopIeDUm+dfN6nmZVWXZ7Ax9YCiGk6OSDNI0XizkTOWtvCxkiAizKIoqk9eSZPdd8T7EcMzAK0MIEt3d0uLK+oeO4ac3m5uaNGzcfeeDRWOsQzGBjUN2jKkZzbnzlKBlfuRrFsZKqKcvQtCAECIQADL6uinyYKKnm46O29cNOj60ddPvHk0nW666tbuA9WFccw2d\\u002f1qe8733vns+mT15+9uzZ+\\u002f78j\\u002f+f7a3VxlLUW9NpLuLsiWef\\u002ftu\\u002f+atM0CPPe4QxVIsyjtPFfLq+sjLMN175su94zfd+3\\u002fL4Lunm1QMiUoKEEFLLtjXOec1RlMRKynpSZypNkjSCOE1T731dVtODiWlbQpJCEpFQkmzoR5nnAMGLOI9UPJssvGMAtKZNsxQBHnrgwTRJQwhpcrcCZTGv68YrREJ88Ytf\\u002fM++9uve+sY3xmkn+MY4HM3qSVXHWvvWkdBH88oyOmellCCFc7Zum9YYZkZEFMS+9Siaumjk3XzAxubG8cmRlPLKlRuDQbdtzalTZ1GIG7eeXdvsDtMhB\\u002fnM5atSiqZp+p0OANi2GQ6Hk2I6iAeT6UR0kIi880kvj6O4mhdVXWktpXVN27ZKRXVrWWDRFqau+52eFEqqRMcdwW5eLKx3y8ATAQObzkpHSEkCEaCdleGeQlYffNk2Jyf7+coqM01nC6u0ccYt7Nr68OmnP3np\\u002fHnn2vWNLRB3nQ\\u002fqbHBZKCFOnTr15FPPmNay0kBLFEYwUvCmWMzM1HmGKI0jBb1+X2itoqRq2iSJF\\u002fOJD3dNQEC4cv3aI488+omPf+z9733fC1\\u002f0KVsXn3fjxrV6fqz3rwPIKMvuu3ABTp8Ozo+n0yQXfj5JO\\u002fmiqC24k2pksf\\u002fvfvxNb\\u002fzxH7+7SBkJKZcdKK3zJJNIQQjBBZakVKQBUSCurXY5sBRifXUTiZDAB48MhMQAfLuoxkohgg8MtLq69p73va9uGyFEVZWKhBTqPe\\u002f+uziKtYzvYOBV1dZ1baVqzez\\u002f+pf\\u002f6Gu\\u002f7h+\\u002f5Wd+umzaKIoctIQ6eLQOUUXj+dwHZs8QAAm10KgREYisYx8nncmskuD63Qy9J7irI9Is1jOVJR0INjjqdvpVWaysrjz68PNs2wgv5pOin\\u002fUXYVG4xYMP3icwWGcE24tnz165eX24sqK1yNIMELwPhBil0SqtM4C0zgVGH4JUyrOvizqP4izNN3dOIwogIvZpGqQQRIRIgMAMSRZPpiNANK1DL4nuHnpnPSBeu7mbBNzq9Zuy4gS6nc7BaFy3ptvv3rh1a3t76zd\\u002f6zeLsrjDhQlQoLZtH\\u002f\\u002fkE1LFSioARrUsVSBArKrWWaobJ6R0rROMRBBlcTEvEHF1da1pzb1dG48\\u002fdW1lZfj0lb28t8ryeP9wP+31ok5e1rOqnStGY5vHPzJVSewDnD13MUkS50NRFNb6pqpuXn2Wd86vryXinh\\u002f1QCldCN4YDgEREdE5533w3s2LQgty1iippBTeeSmUUjJ4DwhRFDnvrLXWWhdCCEEpqZQEwG5\\u002fsH90tLKx1lpjbAvMsdIf+eiHhaLAobbF8iJ+AEBHme4u3CJK9Z\\u002f\\u002f9V986JMfny6medR3TQ0AAcFaE0VJWVWICACE6LxHRCLSWocQpJRtY2bzBVKS5HlZlt1Op23vJusWs7lt23ggkbGX5lJLZ9yTH\\u002f9kt5svFgsOQQjFQSqlIp189COPCwQhkIhICI+gY6cExWuJlFKhiCKNEoioblq5vr6NCHXVNEUbkGOpVgbD\\u002fmCIJBkIAQFR62RZ\\u002fsaIJMh7XFtb7Q\\u002fzoqqroj3Zny5\\u002fG2tJddPoNhkVtbgQF22rYjRVubW2fvXmrdaHumokid39\\u002fS\\u002f++1\\u002f2Az\\u002fy+jtcK8O11RUCwKOD8fHxeDAYtlVp2kZFmhlCCOPJtLXeGvbeRySjKCYp26rSsW7a9tbegSC8F1MNqJyHvD8sF\\u002fOz5y489fRHH3zeY4ONTSZfz1QzPuBARDpSIo470+m0N1wxZVWWZVVba6ytmqOD3da6V\\u002f3b11xx0+WYZV0TIgAw89KLYAYpRAAEgNZ5qZT1wZrAHCxz44xAVFKWZQkAIQQSQhASCyElIp6MRkejESAhggueiLSUm6tr2flz3rtZMXfOAtxurnEOBQIRWu\\u002f2j\\u002fbTPLfeAt4ujmiNibS21iJi0zRCCOMsADRNk2VZFEVN04QQrLVKKQYaDjcnk33jHNsW7qg0Dr1O5r3tdHPrbXDBBf\\u002fAQw\\u002fMZtMoTZZ9naZpAwRBIhYRB\\u002fbOeICAIUkSQSKKoqIs+r2ekBIAmqY9OjxKklTu3tz13hNQcByruNfpSCHiOOYQgJABEICEWFbCMCAQShE9dfkZZud8iKNcSdXN79ZtW+ebppFCzqsWFEoAjzJNOsViIZK0qCuBBISv\\u002ft7vi+K7nsH73\\u002fMxqRSHEKepFPrk6KSui+Pjg0\\u002f5tBcwAhINVrtpFh8cHDEDIE0Wi7qqkizVURQQrfMsyLm7dnM+PZBYnz97dqUbffKTB\\u002fVsNjo+ybv9bnclWENgi0VpAyyKyjhY29iuqkpJ6Zx73\\u002fs\\u002fkKf5pz72\\u002fJsH+yG0SiDccQoCeAhLMUMkQmRkHwIiAiIg2RAYkIgQJSkVnJNxpJVqm0aTREHOe9vUABgYtZCnT52yzgXPSojlb1Cw97Px5PqzV1zwjAAE56C\\u002fnFxE5INd6fb+\\u002ft\\u002f\\u002fhzriF7zw0\\u002f70D\\u002f+ibpsoihhAKGmsBYLWGERkuF1PQURCCKUUEdV1EUJAFEpFARTJSEpEigBu1wo8+PADhOHo8HCwMqhtPZvPqrLqQNdiMN4671vTMjilddNWDqTWOkoiFGSMqX292lsRSjZ1c7IYFWXJITgbkiQp52NpGhu8F0IQC\\u002fYBCXSkjWljGQECQFhKmooiBgaE5XUuznlBkp2rbQMeppPbuREA0ErHcWbq6plnnn3o\\u002fGm2FoTSILWOKtMqHSHA0WhUfOBj\\u002fp5LSjr9ldl8hkhFUfa72juPsLyvpg0YkDFOZJyk\\u002feF9gEJTBB7ZeJCIRBvbHoQEAO\\u002fvuolnTw2feuLJ9\\u002f3N\\u002f1zMp\\u002f\\u002fgy74MPduqER0Ej73esFCAUaZI5VnXGENExpgs07FSH\\u002fvYxzJBf\\u002fWXf7l9Zvu++8\\u002fv796E1dunKM\\u002fzLE0A0DpbLIq6qQEBAZd4AAAgCiUlAlhrjWuDD864ufdKykWoABDgdh0CETpDAgEZSQqLUNYlMvQ6eapjMVhZ1veQkPBcD7Yn51XoRNHe1WutnZuihdYEkkwYAtemBR+QQEgJiJ6DCEIvL\\u002fzxXgjhnCMi5xwgKiVDgKzTn8+O1D15J6Bgg9na3mzbJk\\u002fjLIuBl42c6AMAMwkADwzACMuNIBATMIAgEbxvbdvp9kxr1jc2SIjRyfFsOqvqUipNiBpYgA\\u002fOOx\\u002fcdD7bynPHhhgAFQEyBCkEogAA4oCAPggOXgjtjCckvAc\\u002fs9b4pjDGHrXNAzItq7mMUKjQ7w1mR\\u002fuWWYGM4ySwUcld+P7k6GjZoTUYdqpmEYhFLKSUTz3z7NraSlWXUkhEkehUSt3vryEKiiVwAGZQEmC51btu4vHuZLhyOu6samH\\u002f6m\\u002fflcfClBPXdJVG40CSBA2BWUbUOGqd3xykHsAAGGtJyKN6Efb3nYeHHvrU+XPw75lTO8+1CzCsryDSMgRfBnEACIDL\\u002f5kZ6bZtRQBmBgJgCEvlB0CB+TnGJW\\u002fwjpBxqSyX90gghhAAnlnOTgRxwBvP3nj3u\\u002f5ECH\\u002f5iSv\\u002f7+\\u002f8KaQBA7PziGidc1ph8ICgpAohBB+cD+yDty5JkulUCFDAEIsgdGsbjpSSeFeUy2qOhLPZJInTYAORAOBIR0tpI8Lgw3JVBKiei+69DwjIwQkSmU4AOFXx0kiuDVdXByuIJAf9QQgIgcpFaa1xQZ45e85bLzySJODbJ1WgQODAzAEYRL\\u002fTA2BEnE4m7MNzd40tZ\\u002fXWBhs8Bp6VpfdWSB28O3vm1P74BIWIo6Suaikp3BMeKqWYQQhRlE0AAEAGaL1nxJs3RkSkFCIGl1kCNxlfOb1zKkriAJ6ImD0gIvwvnS2jybi3unb+\\u002fHlvq6c++TFjp4E7RTnRSUoktU5CaCD4smz6vWFdNcYYRiVU2jRmNp\\u002fcvJnuvOhFSqnD4+uQ3U5x7u7e5OUzCMzMRIjISCiEUFJJueypRgAIIdR1a4wxxoQQiG43nyEiEQkiAF6C24gopIyUIiIhiINnAB88exaCBFHvuR01TesJVBq\\u002f\\u002fe2\\u002fcP7MDuk0IBEsmy5DmqZxHHsbjDFKqRBCFEVLPd22rZRSRXq5vBCCMaY9Og5BxCnPqjnAbfTk8rNXEZZyD\\u002fxcfREAIyASAoMPHpgFUZzEgkSapkkadfKcgRExktoHj0gCCAUzeEIEQkKUUoiT8eSRhx\\u002f7yIc\\u002fmuf5zumdwGE2n\\u002fTyXCCAkCgUIiARBIYQmIEZy6JiH4gwuCAE3ttrCoDeweraumuaK\\u002fu795857b0nCJEWSoALoSzKKIqcM3l+u7IKAJSOrDFCyCSJfWAShIjsfN02eZoBEpEIPlSVUUJAcM88\\u002fVQcR60xwEt\\u002fCD2jIHrxcwM2bRNbYx0jytm8jmVjbNmaEoQUQgmKlMSqqgTJ0WjayTvOMUlApI2NHQ7tZ3\\u002f2Z3\\u002fsg+\\u002frfHo6Gh+un7stZ4uyAL5tJ5kZCe9orMCMCEsxIqIQlt30DEtlBhAYgHmp05x1QhARLfVZ8GFZRua9AwQi8iEQoHfuXjkjqZIsqqfFL\\u002f6H\\u002f\\u002fgPv\\u002fzLeoPVAMjeL3UkPhcQaK2dc0u0PIQQx3HTNFrr6XSqtWZmIqrrWjAKlXgP8T23txrjhFCC0FirlEKiEFgtL\\u002fkC1FoHDshBStU0de3soqyIBCICBOccc0AAHWmttLFWCrFU\\u002f3GcyJOTEyWj6Xgipdra3jGtubL77OntnaPjg9XBIE5zEaUgJAfvXfAhIDEKJBJIZKxRUhLRvYEeIvZ6w9l8XrelRji9vaU911WZra\\u002fGkV4UlSAVQsjz\\u002fN4SwqqqgJmQvPGMYJ2TQgJzJKW1lpBsaIQgYPQcnLNSkDWeQAAiLMMThKUVWxIjLIriyaefeeTB+1\\u002f4KZ\\u002fx8fe\\u002fq99b9wSAIYpiZyyiJFJ5nnsP3lsiXCwKspjEWdO6P\\u002f7jP\\u002f6Wb\\u002fz6j3zoQ5sbd+s1nOflYScSctmXKCQAOO+88yF4ElIIQYhaC+89Ly9qc857WEIMAIAIUmlByAyAjAAkCIA9BxnFsNyG94FZRsp7B8+FIcHzaDLOdVYZN5u3nhadQa+sGiEEMzvnvPfIdEfmEFEIsVSoTdNEGMdxvBR6IgKJLjhftULoO1d0n9k5XZV1YEeUAyJzsMb2+n0k9M4HDvPFIoRgfcuMcZIKQU1jQuAQgESERARgnQscnGNjLbMTJKpmIRFBEI3H44cferi19mj3SAl969buxsqKcx6CX\\u002f5WkjENB2YPwIzE3jtkgBBQKCmUae8mZ06dPaVFPC7GDIK0eOqZZ553\\u002fj4IbOvm7KmdJ56+slzFfDZHvCsXQkhgZmYEllJFUWSNIUBAjUiIQASIDAxCCKJUKRVFMQMbY+u6cc4JIiXv+mc6jeMk9SDKolpd3fj8L\\u002fjKG7eeBvDIwdiaPUVRnOedg4ODza2txbxdFI3Ucd7JJ5NJUYyRi9\\u002f6rd\\u002f8wi\\u002f4\\u002fE\\u002f7lBff9o8Abq8A0HlnnUVEBF46YIjEzM60hMgAzIFQMDMCAqL3XkeKEENg66wAdi5IKdMkTdMUEMqyqurK+QCEEJjg9m3OWimAxXPTk9DReDbtxrkB0brQOiulXIoUMwshICAiLrsEAICIll+w1sZp0jTNcDgsigIRHXkpEDy46u6762V5JNRiMS\\u002friogCcwhhdHwSOCwVodaR4WCsA+bWWFp6KxxISO89+IAYEMk6i7BMhSvPDIzy1Jmdvb2DBx+4tJgu8rSTZTF7bwmlIERCoQKHpiwW8wXD8rAFZjbOEQARMnBr2nv9s9HhSdqLkkjFQSNzbds5G8U6qs196ztXr+y1MSGT8iLL4jtc1joEBsI47p8+c4aRb1y7DsAuBGaQQjgPuDRY1hJSKGuiwgUvhACA4IMQ0rq7kKOUOnjbSaLR0fGlSw\\u002fGCV2+9mSMFGyQQnR6\\u002fbZtpYo63f5oNMryxHgiLepmFthJmfby\\u002fqVL9x0dHf3af\\u002f7tz\\u002frGf7UcU0c6VnrpJVhrjTHOBcBlNOIBAYk8MzMDM4NHWGYMQQh0xiIRMBOgdz74AAyFW5RFEZaO71IoPTCzZUZrAWCpApckSLnWJDqpTfvs9Wef\\u002f\\u002fznd7LufF4s0ZwokohkvCGiACwEee+9d8ZZqVUIwZgmjuM41t5HzAyBTVOipYi6d6Z48hOX4ygGRFIqT3KptbGmKAtFCIAhhLYxDOjboLUmYGBYXibivUeCpY\\u002fg2RFSYE\\u002fLK6sAOARpXHv23Jm2qfrdzvjoJIsVg6oxVHUdfElSZr0eG+Oc01oJklIK56zSIrARUhpjg\\u002fNS3ZNBEoJAs3CAZJomeH\\u002fj2vXhhYcEQFtUm4PV6ydHjQudwVrj7p4kIQQCE7IQQigxnk7G84kUMlKRkgoQnXNKaWYGAB8YkQIDAgoSROTA+XvvPgSQiMjAwQtBjz\\u002f+iW6vs7W1c7B7Lc1yqbBpmts15Yj\\u002fn97eNNi2JDsP+tbKzL33Ge705vfq1aupB3W35JbcbcnWZGvAQm3ZcljGYTuAgIBgCAcG\\u002fkAwGYKA4A8QDBG2IYhwEBA2YGRbAQbLkyRbUsutodWDurq7qrqqXg2v3ninM+2dmevjx9rn3Fsy\\u002fIAAsrvuu3cPOaz81pgrc5tREPb2DoaSc64FePljH33ztdc\\u002f8alPr9ZPb1xyVvq+36xWW+ea4rstCDeqABF1GecWmdFIo9FGUwwA4P2KKQIwM4jQnSsAghjifDbrui7GSMKsAu96623QDWFmJL\\u002f85S8\\u002ffPjwpZdeOjv7hguzXRER90jMzKMYIYQQQq11GAYRcYut74eg2k6ayaXNiC+9+PLifHF6drYZ1qvVBoJqZmSMcX9\\u002ff9o1tdb1eh3bCEEI0aymEM2s7\\u002fvYpForwIAIUCWx0ABRMVgUYDadbhab02dP92fT6Wzy5Nmz5XqtonuzWdMmCdI2zTDkfshmBKlB7l1\\u002fLrUg63xvzyr8U7peci6qsdZxF2HXdaHByWpxOJ92qfnMp77juw8OfvELv\\u002fr7f\\u002fwPvP9oPMwRAEAAIYTn7909OT1u2iY20Wotdai1iGiMaT6fmXFxfobtVAqkllpRR7hcMD\\u002fqZr1a95Pb3fHJ02s3bl27equJVx49uH++ONHN+uDgVozx8ePHqhpCfO+9B0dXr1SztutW6+XDx49u3rp1dOV6ebx57u7NXWxQRESD292qQdy6B2QMZ8Cque0vIiris4tRvI1V+LSZGc1UVVSt1qDqiKy1LhaL5XLlVgTJ69vWm6ZtaxlW52YWQuj7vlZ3t6mqzmb+0\\u002f+stfrygGOrlGGz2YhISqlpmia3eVjHVqfTtItrPHz0WFVT0wZpRpiyspYylJNnJ15V2zRd1129epUkjU+fPU0xDqkjWYOJQERIqKpZpdFYDSWePjs52jtqYjq4vp\\u002fXuZRaqq2GPoYY+14EVkpqGh8zOJojJ8dPiXz7zs39+fTp0+PZpYN6rJaHDx5812e\\u002f8\\u002fTkPKrGgJi4ymXRr3MuV2eHtR+m7bQYLp9LBSJE1RD6oc\\u002fDMJ1Njg4Ohr4na98Ph4dXARWB0GoppKXUBB1NE6+ga5vgYScAQFmtzk\\u002fPVuv11Vs3nrv3HHJYLJ6WkvdnM00ppXRycnLlypUnT56QmE5nQ5\\u002fbSXf9+g1lvzp9EvNMrNy4csX1spdaqor6crhVCyEQ5uQWEYORlK2zWcmdLqm1tpOOZK0GoB96FSUJFSuZRlaGEARSailVdDuo3egAlFL6xdJoIQQzOzk5ee2112pl0zQi4j5mjHEE9\\u002fZ1VQWQUgIspSQi\\u002frpKcLD+B\\u002f\\u002fpv\\u002f\\u002ff4d\\u002fw50NKZqYhCAHWtokiCrBarbXmYSi5DORquTw7PQWQc37uzp0QQ9O2w5DXm00KwchaiwZV1ZgUsKZJ8eR4We7w8cMHN65eR2XXNk3TNCnFmKrVp0+ezvb3JTUkBUI3fEERiaE5PT6F2Wq1+uD9cS8rfJvhfO\\u002fjH\\u002fvY6fHpZt0Dlaj90EvTpdA2qZlOD+\\u002feuA0rewcXOCMYQqxWT85O26a1auvlCjSozeezGMPe\\u002fJDE0yePNZAGVRCmQUOIVquophBivMDEX\\u002fzpn\\u002fmpn\\u002fzc2XJFsy\\u002f88ucj0o2be9\\u002f+nd\\u002f+7v23VVMuZTKbrfu8f3R1Pp+99dZbMabZbF5LfeXFl4b1+vu+53cH5FL600cLHIwWjPqe1RCCG8CAQJ0DSZqZiBJUDQDERwW6J1xLJelaUkQgEmMQUY\\u002fKmLHWSvcnQF+E4VbVeiFwcHiw6Deb9bpfL2OKXRkCdMiDSlCNw1BLrdXMajUSZMk5htB2jYilgAKjMQQxkb6WLjWtypvfuvBzzCgSbAz0U0VBikJCiKrTriNptPV65fXHFJ88eSSiQ84isre3n5okQD\\u002fiBH3JAqw2m3j91vWTs5Nchnffuz+bTJq22ds7vH3rxtOnz4JqTGG1XixPhsriADNQiRTTMCxjaNar1WQymV46l0olDEO+cnDIUtvUlmI593koErv1Jg\\u002frTZf6527cbGPUtnF16aWO2580xqSi169fPTw6bNsECUFaQRLg6dPHAN3yalJTSgGKkMxlKFIufaVmcb6ASpPSg3ffuXnz5s2rR6\\u002fdf\\u002fW1t\\u002fpW03O390UtRE1t101mj589e+XbPln6zXp1fnb67OUX7sxn083m+Etf\\u002fLUmpel0vv\\u002fRl3fVqojVSmiAhBjcdlTVlJKo9P0w9MMWNCaiIEutqgozgHSjUtTMXOsJpPoEqxjhusltPkBcC3sxqyDb2HziM9\\u002fxlS\\u002f+hog1XWd5KHVIcVKsBoGRVquIGNmEkDQAnE1mV69d6ddLoW42m4P9K7mUxTpr3SToo0cXB4jMJlOSBKMGDZpiIrnZrN2BdbEGwaSbxBBEdDqd5GE4OT1JMZrZ+fnZ8fFxCGEync6ms8PDQw1yfn7u3\\u002f\\u002fTJoV0uNc1Xcnl6cnpk9PzMuTppLvz3D2FMoR6ckojKQSdi7uuC1Jn04nR8lCOTy\\u002fWNyGopZSS9\\u002ff3n+UTUmqNKXZ5yAkYhn69Om325ovTp7Pm6u6QElU1tyJFuy4RZTrvui4ulovZ7MCFB4Amxmm7n1IqQ52008lkAnhzpdDsks1eav3Lf+V\\u002f\\u002fdEf+b6m6x49ev\\u002fhg\\u002fuzw\\u002fmnvu073vj6629+65uT6eTg4Nr1m3eCNVcPjgLCN17\\u002f5o1reyEMbZOF68MrVxan66cnZxb3L\\u002fwx528BrUJjCrGWSpoZV7YQgarUal03nezPVXUYhlJK27bT6VQ1PHr8OOchNU0ppRYjrZQiGlS1aRO3kX06tggQOwUKAAJCosr91775o7\\u002fvR77xza\\u002fHSbM6OzajmREWRJtm4sSopfbVcq0pNqHH5oOzpp2cla43rJ8trx1dOdSz1LTf+\\u002f2\\u002f551339+1cL5cBA1N01QYgVI3Qz\\u002fkYVDV69dveNJH0zUH+\\u002funp6ePHj06Oz8XiTFOUiO5FpKx5JyH5eJ8vV4+ffrY5Z+KxPffe0LjpGk9gbNkpphm89m1q0d5KN1kltp2MqlAHANDpIicnJy8cO+2SphMpxp0fnB0QQ6gWsm5NE0LuHuFlNrlybODbnJ6dvzw\\u002fXdLwEvf\\u002fu2zdPPyW6wWojYxCKztGjIsV8vJZK6IHiECcO3a9WFYlyGrhsVq+eT4mc+N0cALswZAjAlA3282eTWbTVXs5s1bKU725gelX+fh\\u002fPGjzfHJMaSd7V05unalDKuvfe2tg\\u002f3JtO1Uwv233j04vHb1+p2\\u002f\\u002fr\\u002f\\u002fnX\\u002fmR36X1ymkisLPQyh5YwZAQwjbpSSAqYmzade2TUzp4GAfYC01l7LZbFKKZjXnDCClKCLz+TyEQNKxlXMxWK11dFxFzOouTguREHQymcQQvvXm6yICNBqP+s0yqNZSSF2t6nQ6ixHUbMKD6ezm9Vv37r3cttPFcvXo5Gmf+7pZf+z5u195cjyftwL50m997WNjAyAxlFxp28jmqOIhcnxyklIKIZwvzz948MHIDwIz94WQYmNWYwht2xpNBWbW9z1MQMYgbTfvZtPJarmYz2Z7N\\u002feChqBa6sBqEWlYD4+fPKIv00O2lgP3rsyCBFBE9aC5WEEiDMD\\u002f9td\\u002f9g\\u002f+wc+ZGQmBxNislpv1yel+m\\u002fJyEabtanU2adMFEQEREcPe3hxSrRaNcTrZE2lVW\\u002fFVaNb9w0NgHzQrsGI5D4vl4nyxMCPJuv1WNYDpdNp17a2bN996741NfxZFry9XZsequrc\\u002f\\u002f+DxuyHMAkpK3XTWnJ58QBvu3LrVprC09sbNW7Pp8Y\\u002f\\u002fxB\\u002f6t\\u002f7tf+\\u002fWrQtmeOnFezXXPudhGGqtQ9+TNCNEYoxBpWu7mEKMEeBmszk\\u002ffzIMQylZVVWi+uenBG6rlVI2\\u002fcbxJJBqZnRPVgWmQXdS3ItP7en5mUACtJp9\\u002fNMf79edsTx79jjBcu7v3L62tzcXkXfeeXfI68l8P7R7B1fuWJUbs2uWJovhrCklMsyuXWkafXByMp3OdiluFPg6koqr7DH8a2Y5Z1+kaZrosd9SioiMlgBAVgHdxIwazBgCJl10QRC\\u002f67PfAZqq5NJ7wh1JFSWigDmvU9du8hJbaQaImYlICsGxTvMQ6raQAERwvjpfbVYpTlIzDdSbd54\\u002fffr+Wb9c5c29\\u002fRsnj55pHnCxhVNIa7qmidEEEkY8Bw3iKgSgCMY8pSBRYkBs0mQ2u37DoTCuNnp5\\u002fOTJ3efvzvb3y1v11q0b\\u002ffni5OmjVz52zbrm1Vff\\u002f\\u002fR3fvfRlevrVR5y\\u002fa2vfWU+m3XN7PGDx\\u002fNJ8\\u002frXvmafqP\\u002fav\\u002f1n\\u002fuQ\\u002f+c\\u002fOL+XVAViv1svF2gMKMca2aQycTiaTyaTtuiZFgAKUWmMMBI4Oj2qt\\u002fvxyte77Ife9uaVWKwCnpMhovYkIST9FOsW0Wz\\u002f1IgCNTWrEA\\u002f3Q9x4dX73yCli6+ZU8rNvJnsbJcsWjK4fd7Hgu0ya2IXZ\\u002f++d+7ta12y\\u002fcvW65Xx4vrty4fu\\u002fundX5e2+\\u002f91YzxOfu3ASeeBMfefmVMfZW89nZ2dnZWa1VRYZcQwggiKqS5vv7tZbcDy5ycs65ltlsvr+\\u002fn5omhHC+WDx7dmykkdFYao2b4SRqSBKJohpqqTRDCCJiZGraWo1AKVkZVRSiqhpic3K8FkHOebVcX\\u002f6+ExhAaghm5fz87KUX79Diph\\u002f2r1yXhDdef1Un0\\u002fefPP3ez37PS\\u002fdeBO6PLwGqIioSJIRoKLUyhgAoRrbeUXx09ehSnRe3LgsAUcl5+OpvfeXatWsPHz68dXS0PD1++sG7j58e37l169Uvf+Xp8cnB0cELL7547do8xq5s5NatuylJbF4nebS\\u002fn1IS+ZBQuX712vVrAEAagFKKmZEGiNVhMaxJWjXAox0kx5S4Wmt16zMozb\\u002faKO7AOztBIRjPr4MgqJZa4IcbbgsJEqUUXzvXEJ+8\\u002fqWrv\\u002fve08ePFmcnbUrdJDbE7Vv3ptPZo8c6LJfPFs8+devmvRee\\u002f8iLL7\\u002f79msn54sXXvpIXi2n8\\u002fl\\u002f+p\\u002f9Jz\\u002f2uR978MF7IaTfgdFPJ63fbGqtpZZabTqdqirNAIkxujcgQsBm0ynbbr1a5ZLbtpmGSalltVqmfnAbYm8+I+18saioCouTdgoDTYKEfjPkwTcGnvd9n3NZrTe1sBbpuqll8\\u002fBPNZydr7\\u002f8lW+AJCyEcDlvm6AKPCUmhLBcLg+v3Di6fu38\\u002fITx6t0XX1ktzq8fHV69eTOli7cAQqCqFKs1SxDVqJIu4QyXoAYALmIBiksymlxKgzOrJyfH165dI4sgPHjv\\u002fdV6\\u002feTR49u3bx92zey5F67sH7z57luv\\u002ftaX7r30Umq60DRtnP\\u002fy5z9\\u002f9uz81u3hD\\u002f+xf1xFq9mlg9Vxcnw8lL6UknOptbqwcb1HMpfq7qH4wdUheFytlBJjVJUUo+e+jtkoJIhSyzAM\\u002fZDNzINqqkIipgC4bhidG7c4QW5PTNFaFqWcN43t73VPHj86P+dyFp89e\\u002fjKyx+dTprTJ49SE4FarX\\u002f85IO2bezUvvGNb\\u002fzQD3x\\u002fznl2cCAacrHVZgmMrs6jR48EEA0aAmkxRoGEmMzY9wMB0RBgZyenD9cPXPunlCBIKbVNIyJRAw0Am6Aa0uH+PKWUUhN\\u002f+Rd\\u002fsxaLoalWIAQBgUPYaKTQFAggBGzaZjqbnS8WbdN+5CMfOzzcC0FKHeSS3hQ12jgBMUYA33rt9Rt3rqege7OJ1KuLSTedzk\\u002fPlk+eHF+8JRAgqAx9rwk1W9AA0RFLY88+VARw\\u002f5duIfhvH7ovXTtfLM6vXrn9cH3\\u002f8Gi+Wi3X680br79xMD\\u002f6S\\u002f\\u002fTX\\u002fmJP\\u002fKHF5vNciXz\\u002fYO\\u002f+Td\\u002f\\u002fvj4fLY\\u002fXz47e+Otd0I3DSEG\\u002fZA8O7pyxT1aEYGAJNwHdzNFoZcSpMwMAAlPS6GZXzR6yhA2m\\u002fXp6elms6lmZcgAmqYJIQBQHYFIcmfCNinQWEqppZCAhBiUNZe+v33r9vXDa2+8\\u002fs31Yv3cc4df+s1\\u002f8J2f\\u002fi6VmssgWkOgMV+7cnR8tmgl3r9\\u002f\\u002f\\u002ft\\u002f12f+1X\\u002f5Xzk+Po2xmUzmOyiLQEWr1VxyiinFsLe3l2KqpdZa+n4YhqGWnNoupqbWOum6djpJMS4Xy\\u002fPz88XqTDDmqJG0avv7cyMFEl965SWV+PVXv\\u002fGJT338+rUjUfd3BEAt9ZvfeHOzNiviqWcaQp\\u002f7rk1dm95+8+3zK\\u002ft3n79JFF+tGwsFHG04M0spHV3Zf+etbxzu77+7PL9+7fqTJ48e48lXnpwMff+DP\\u002fLSdoQigk3f33\\u002f7ndDw6Oiwa5AmHaVAdDTjyEuibZQczgCXtacXq7Ze97\\u002f8S7+eh3q+OD9fPbEyfN\\u002f3fM8b37pfc9mbXf3xP\\u002fBTv\\u002fKrX3\\u002fzvYfTrp20X9wMNtvf2wxour0\\u002f8+\\u002f++\\u002f\\u002fRf\\u002fwfY+fl7uoE1UFDivfYZRoornk8mg0CCDvMmW27KCFogC9Ao01pPps7pPxBAi4CtzwjAIGv+t2PvvIySEJpNgzDat0\\u002fOz5RaNS4Pl9\\u002f\\u002fKOfvHntbt+vPnj8reX5yRuvv3p6fJ5JwLou7e\\u002fP+r6\\u002fdu1aMfm2b\\u002fv4wcHBn\\u002f3P\\u002f8t\\u002f7E\\u002f+cV+jBH7Lm3jhhRfGAQGq6ta6iDBFsJnPZwRAKaUul4tnz45PzpdcLq2aAjGlyXRPxPq+z8MQVLsupraLMdVqkaEMfYbYo0cfPH76vlmlFTODiWpTixIMMZAqZiJ0l7vPWQUnp+cnJ88+\\u002fomPcPdBWsAMChFQTKPGELVL06tX78QQbt958Z1337t+49695+\\u002fl5ebjr7wILMfXRESEkKHWuhzW60cpnHbNSWpi2zTXb9yE6JjPAHGAAToCbwybK8ZILwBICCGkp+fVSAtdSgdZ8he\\u002f+oYoSH7w5MHJyfI7fuf3PF3k0LarzQbdbCjQvLmq7Wd+x3daKSEE18kXdTquL\\u002f2ylbIj2MYrfnsnXAVwEbh9EGMNCEEAgnRGEkBEuKuDY1UXRQQQVZ1Murab7O\\u002fvoYqq9jbcf\\u002fTWzVu3gx1ca156heXkg3c3m0Xs5kOpYBgGOz85fnpyvnd4tZCZtZk2qmKsl+Q11JN5REjUXNbDYEZVySWXXIwE2G+GUquNZgNVY0qNj9ZUFDqZzvbm+6DRrJRchgFEvP\\u002fWuwEJ1MX5SiOAKsKg2rWT87N1yUK6HBEf9XbsAjBFjYGvffMN6gXOVCSoqnrOtwr07Py866br9bpppx\\u002f72Lc9PT5p0qxnfe\\u002f9h8Do0MUYhUZaJYzaNZPpZF4LSqaijNMjYogjzrxDo\\u002fu5LZdmhTRV3ds\\u002fePzkSWXux89ulNIPMUYpbNabs81SmzDkTak5QjW2CTLbm\\u002f7Un\\u002fwTwAjhi8r\\u002fob8AjK3\\u002fn1z\\u002fv7i4K6OFsu3w5UFAQI4s9A8V8VGSEBwdHT56+MHB0eHVq9cXq+V6s+669sbNG\\u002fvzyfrW7V\\u002f4u39bhZvVMqYu52EY8nQ6bZpmb2+uGmgU1Z1AHisXgQjNzBh97bHWYehdYwIg2Q9DLcXIWitIWhW4cPd1kTibTKaTSVBRkaHvV6ulQKJIgAVBEEQrvvwpz9157mD\\u002fym9+8auggBQ40OB\\u002fAkJSRGuhCvohx\\u002fQhmhgN0JzrvXsvGDVIUNW27Z49O75797mumdTBCNVLny+JMdbsB\\u002f0haBNTl4uBqDnXQkgFqlDF3QKRrQzznyOpLtOsmg3D8OTpkxhjzVlUQghD3mjQYjXEJqf08OTEpNS8rH3R1spQJk2YTWdVTIO4I\\u002fkhCFwSMd7UVkhtuzE+Sxn\\u002f+\\u002fDbW2SN\\u002f3J76UNPOIQcTJfuYBSsFJd\\u002fBDGdTsvQHhwcLpfLBx88fuONNyfTePPGna5pr0wnv\\u002f6r\\u002f+Az3\\u002f3dTx8+nB1cmU\\u002f2Uool16Ojo7Oz85tHB6LiBLvcvIYAQNzPMDOaqojIdDJJMa43mxhDN5mEEKrV9WpdaqGRZqLapGYy6UTVal2tVznnnAdUizHSLHZN268L4PtdLYQgYu\\u002fcf+9dfhBDELJUCxrMtunwIiRVxEBVMbOD2V5sLhawgRHe5+fLu8\\u002fPlst+NtsrQ57Pps+ePRv6kmKAWKn5waP3gefHVyDOXl1qr1y9WkrZDP1yuUTNt65fefDu2zGEyWTaNB0JEYXLV1WQAlEV\\u002f+9yH8zs9Mn786Nb1apCrNauac2KqIQwMYnvP3i0Xp+VzSrFhAKzMtnb\\u002f8v\\u002f41\\u002f8o\\u002f\\u002f4P8laRRRy2duFgwf0EY5XtnAZ\\u002f3Icuc1PF0sqgCeobR2tEUQel+FFBQI4wry4+vhwGSEIgTHFGKp+85uv\\u002faGf\\u002fKnf8elU6gAM5+erD95\\u002f99mzp\\u002f\\u002fSn\\u002frn+9WJ1VxK\\u002f+zkqRRjaNbrda1ls974QC4pgG0hjQQNIiEGkDF5EH581kMvhKs5Ue\\u002f7RT+dNCRIUnyskFgtu7AkqkO81hpCqIWqIU1CCKmUShOQHFd\\u002fJYRYrAgsxrher+vyQm96qbUeHV7p2snZ2ZqQWnl6eg7o\\u002ffvvXrt2cHL6JKWmm1\\u002fsExYVVIhIGfJqsdz0m2pmtbDIk8enQaqA1Z6GECGiohqikDGGtm0nXdek1DZJ3PMH4KxKAlDVKNEyDVRYCsFgYgwSF2fnuV+0wSyX4BIs9z\\u002fyY38gRhWVlFIIiZexO4LCySpm1Z1Cb24XMxMBASFyyUM\\u002fLBYLX+hMKXaTSdu208kkJt9JoM5h49oNvZVRnZK8jAOfva00papOp5OvfO2LV+988vOf\\u002f\\u002fzv++Hfn6ydzSbz2Xpv1j1591t\\u002f4c\\u002f9hbv3bm\\u002fWm4yzxWJ1ND+MXVytVqXU1XplRu\\u002fkh\\u002fmIAERGG2lsb\\u002fsMSYLeuRHrADgKbn8RdAvdtz+AIt7xCCOpYIiagIygoqkWa9rOl+2smko1YbaSGt\\u002fuJ23bGkO1mnOu1XK+vHwEAcwY2vTk+KGhBA2hQWobCksuYFLy6tWr737wLWw\\u002fkK6AQs3sbLHK1VQIMYCgVcRKUQ2StLi4FzWjqpZim7J+drZoUlNrFrnY7+R6y6yoWr8p\\u002fk2MUqWaiIhq36\\u002fy6nwhEmg1NmkYeqr+6O\\u002f\\u002fw3\\u002flL\\u002f8VDy5UM4AG+f5tld96462YQgyxaRpP0ICx1roZ+pzz4EkNBADXuQSNRqNARCX3\\u002farvY4xt26YY26ZpUvJ8YN2eUgECEJ8mkrXWXW778bNnIQSN2sRECFTNbNJ2EtPx+eJXfuWXf\\u002fD3fP\\u002fq9PyD999eLJ7tXz36V\\u002f7NP3Przp3l+WpPE4Kt1utGurmlxXLzwB6cn52UkgUIF46xIwikiY620hbaAjgAHTpeCMhlViAAIdyuAUhRAiAEkQYa3WTTMIaqYwq7L1uZGSBOCoLVKsmyLtUK3PtV7S4dnyQiIjLkoW3b4+Pj1Wp19eoVq5kiJKeT6aZ\\u002f0k26X\\u002fyl3+xmE+AVf8sDRqUWEVotEsSsBlWP5arvfyQAVLNiNWgQA3yfk+gmZ1XQLsSqCMhxKXcYhsAxFUJERLTrJiJBRETofmub0me\\u002f69P\\u002fw\\u002f\\u002fwl6MqSyGdtWGX6LjqNzoIXN9Bgqr4rjIBgGIwqOtRV7gudVx5uAAgacBq3UN6keU4keRINYGrf6PVba7iJ7etPzl+FlSDJ78BxaxUM+Onv\\u002fMz\\u002f+ALv\\u002fbeu\\u002ffvv\\u002fv60LPWMtnbL8VY11ZNNZRahAylj7WsN6vlug+CP\\u002fdf\\u002fTdvvfV2raXW+u3bJt66\\u002f3bXTbqubZsmhhiC6ijO3ZEXgDD6vxB3xbbCbFsJANDc\\u002fDSSAI2RdWS6Jk0gZahVBWZVBLn0GqJHdKqZVRNV8Q0AghSbYRiqGclaLzL9fYJLKbdu3Tg5eXZ2dvLgwX2zwczatjGzlCJpTTu7fXSxZa1adaNSncMETUgAPIwCiArMTBQqigAzegTAO0ASZLm0ju5rOKWWw6P9J8+OrQSKhqAiUiuojaRURTVAVYehtk14\\u002fs6dV7\\u002f0ZZqJ59AStVZe+mKcERzlJFWllEIWyNYIwQi4Ws09OZAEdKtcxTWPCAC6ThTQQ27VAAggShEYDfSpvCh9zkGD1ho8h8rbFdnfO3z+7osPP3j7C1\\u002f4\\u002fPd97w+tS1NKnkbcfe7GF1NcDn1dWWonqpLSpuR8vlyS+tG7d0JMUIHILm\\u002f7bLE8X6xEEFRjCCGEoArAMG5MKLVwu100hDCdTtu2jTF6Kq9AcGknRLVaK0vJm00fq6FWE5KkqsYozvcggiTz7HaIiMQQRUVFjWxi0zbtpBkn2TxMvi2i2qR0fn56eLifUnh23JZ+tV5vSEttt7e\\u002f33Wz6Xy+uvQV4qHPNDFDSkF9XUYAlyk+iaMpPVrSISogsvVtSYMgtBf2mQAAzerDd97uDo\\u002f6EgArhSnFlIJqqy7UwRBSiO3+fO9of79JUVVFlQDJUsvls2EIgqN8quQlI9ggGoKqK0FVEQRRFRFVACR9nWq3JEpSVEKMIQTVYLXWWkspdLtpKxf9Dy+TyTTGmJo07SZdkwhWs1X\\u002fzptvvvFd3\\u002fm7\\u002ftbffLhen7391uuHt186X2Vm5mGAYHn6ZO\\u002fqbbKqmbA2MZ2dn5cSvvK1V8\\u002fOz8W9r23h6NSCtFIoJY9wF3gcRFVCCG3TxpQciJW0XJar9TAMpVZnNhUVlRSTVy4iMUjQGPzscBqaplHVEGLTtCEEiPrIzZhzX0rOOddcF+vFmS3FjRiOayy7zmqQvt+U0n\\u002f9618DmEJcnJyvN5u2bRWpX7NrY0qT6\\u002fPD3UuqodQcQgT9mAxHNyBmNJon4zvyhCA9dZumIx5FtsLdi9NLBITFEGrTeCdjjIKoIcIRAFYyabh9+9Z\\u002f\\u002fxf\\u002fkrCqBrMtS+4q2hYDZcQ6SAMJEAKCpRiQXWapihAi4rBzgw9EVDFRUmjVyNz3WWBGGdlJADj9\\u002fReSu1D2er328T8lWauISBAzlro5Pj75+Ld96qtfOn\\u002f7\\u002fluYXlmsNuu6Odqjn3gw5L4NUm3I\\u002fbBYr1LXVeabezPVAFdv20I4TlC3LogIQLfsPfGfpdR+KCRFREU0qIiShnFyRr4CoLpxYRBjjEeHV0MIozBUzbkvpeS+Dpvler0GQVAgIYTq6yfGWquIWq0xRpJWbavFASDGaLVOuuagDTO1Z8fPTlZrofSlFpZv3X8vxDjk\\u002fPxH7k0mk11cY9NvAMYQDGKs6uKaFFESkFAMLidIwKNIRoGUWsf5HFOmtoUubBicQtBSKwDx\\u002fcYIagiIkaaMk8ne0cEBQVGtHIWhl60wBeDmhDqa1ZePBPC5cqtFQFDUgz5KwGgsFSV7NTTCxyAuObzDIiIgRUAS1UotoHPJxYiM5DiForEhaKSGkPNwfPaQIVy\\u002f98LTh+88fP\\u002ftu8+9mE0HisfsY9SS+40F7dRCl2MXZpo1mfPmpRG6M2l0Rh6HQFKASlNXphpiCARrqaWWnLOM\\u002fDB2E\\u002f6KSDWId3jI8fT01Gr1e6XWEILzfdu0gEhQoceHKQQIgYSYVJUp1FraGBCD899YBCFo27SLs\\u002fPrV68G1fVktV73WK+76eyJnq03G1G5\\u002f9rbDiYvQVRAhcBMABgFUBEj3DUhCbNqhPhmTzd6nOxgNeiIpF0hCRrI2Wy+Way2Mlc1NiJBo1J0pMMwPPfcc18MUTCKMqPpZY2yLW5QycjsLoTG4p0Zuwrf7kCIjFabPyMAKFspIuKW9O73sQb4ajQ+VH+1KhCqCmDcylzaN774Cy9++w9du\\u002fmcaqPaLZf9crkUzXvz6ynGnHNLklTBZr28mqSbNLNJo7slnEtQBkFAVNWhD7hkIY0EjdkyouWhF5GUUopx0nUQqaWYWSmlut4XEKRHa0hRjTTuHDEQoPjpTjmXmJKo0JiixBjbFFMMGlQEMQbVQGIYcr502DYAmtGsbRJKnjapTLpmtOps0y9DUCFZjQD8g2QAgDaN3n4Tg2oIqiISVCtrrdWq1VqruZ5CyVljAAECEIFAYGbpUvwMcBxo27UP33+nPbzV1zGvFVCG0HZdNaogRtnb2\\u002fuZv\\u002fZXaSWoQ0OIcc5dI3hxGathFJzi7XvhFhQOFMItYpIjzAgAIm4HUASiYluyu+HvxXHpC\\u002fYXbwLBM7xBc73sUHCuMK5WmxDadno0DGdn5yd3bhydnZ14apZ3o+RcbRmlLyseXn0h92Nu42WYORvBVz29b5eKmUFkGLIAZlZyrmaXvxsJjL0fx+V0ECER266tNbopoKoi6jLCmwkhAgyiVo3Gvh8g0CDS0wwkzUw0XO7sfDYT4Kd+7AfX63UU7E0nbYokj65euffii3\\u002ftr\\u002f+dw4ODnPPobWxL17ZCstZCE5TihlSKqhJTQoJDLVcjkEupVkU0l1JKcViqhvV6zD\\u002f2IhAVaZtWECaTqRnNrNY6m3a9aTESIiGGGGOMG1JEzMynHwDx2\\u002f0bR7ZbxC5QBeIzNTKpg82H5VYXhJ6CAcFIdoiqSwhxa2ZMdxzloZuAH2oXAFznQr2ebQqIqKQUu65bLlaz+UFKe01bau67Nv7i3\\u002f7rohpT6rqu1ipZYMNXv\\u002fzrk+nBROO9e0e4zCdjEya+ME3QW9yxz5Yl6OapKuEnl\\u002fngiZHLeHlad2V0eDj6rfS4hVOQoKMpswbRalCNOWetUBWI1bqVgp63AwAuV0LuB1aLEhBYSomCJsaf\\u002fpmfFZX1KgNiVi9bdUG1a7umSTEGIUop1Tw1A4CEoCk1AEq1nHM1MxoAP+LLfToR+bDepCMghJASJk03DEPTtWXIq3Xf7c2b1IrE6XzSNZNZNzkH3TciXd6IU\\u002fZDLL3FIgiq0r9L73R1JI1oEAAiIgQENBpNVITb6BpJQgWjWQxczLhZjMlVNl2EXCSHbSXE+LwAMKspxlLMKMMwxHZydDXl1XHbtgIRlel00ve9hpTatgkhatN1k9OT0\\u002ffCmsYdxMciYh7Idrb40J3dH6Ou5xgBcGXoxIboCMrtw\\u002f4GIigqWmoxj5NVc\\u002fcnhjASTiAiBkBQWTUoSSNoGIlJXJAJiDEIpBryJgtRhTDxA6SMpqYiwlF2Xowjl5LLQlbjJVExo+oovf15AAIhtlpGUawaqKCIGM3571IR5wbQHr3zWnflzvGpHxrdtd08xnTj5t3T4\\u002fdRdJXW6sMkRVRdGwGAfKjOETkgiG3Q3IkwYmdLYnEF5BOlY7d52VAAfe5URERiDCmmEH0PiAIMGkZQbr9XN5tO6Tge8edHJ+nZYh3ESkXZrMMstJNuveDivG+alqxR9XD\\u002f6rqKSsoWmsm+aphfOTw4aEVk2\\u002fmxCNTtXtLP8BvFjWytYRmHAjjNa\\u002fVfHFciwktqisBujiNEqlVRjapQoZE0d9F88kREfKZFS81jfEHEoyTY0X1bVIIApVYjLZci7EsxIrWdqKoEkKKiopfZBVuAQVytUFWNphCO2BrdApIQP2ATAJ31CBLw3JXLZddC2zYiFkLsJtP5\\u002fMqmMCu7yd7TR1ZiaaaNnQIgQewsAQEIF5aXi08PDYSzghc6clTF6CpOCI6TsivbSVVXT5BaDWC12g8DxqnaspaIqN699GoMQYhtkE6dEuvNEGBaacZhdXJ2mpE3T483GoSEIjZNt1yUUqJJmh3sVesBNk0a8XJJ9pBOSJBOh0sQFPEREeMs+cXL4zNSRvoAAAiM04RIs91bfteDjSDNTEV0tGdRrYQQReBU8DCDkSKwS0xPQEXcOai1DlZyLQZoDKAbHwDERuNmLCFE59FKopqOHo87zAIV0vXHODAj6RYD1MzZzj7kkQgAqGq1qqoK7B\\u002fM88m639RSlkfXn2smDS3FdhJTfPeDh9\\u002f\\u002fe37vb\\u002fyDvwfQj\\u002fIiSXf560UnKwmO82JGikQVQnZijVuzi2YiLpCEJAQiCtCMBD3\\u002fxZEIETOKucAeLUKfaz9LaNf6YrFU9TmUOPr4VBWz2jSp3wxWC1SaptFGIVU1iCBqfPv1V6\\u002fc\\u002fUTTHoR2qqltJJ2fLcvVKUlxc29buAWKJwh5ke0ON2AUJ1vSyHhhCyz\\u002fZ4ezsbcCADGqEhARc6PeZ9KMZAohhuiv1VJdCJpv6qcRUmkiao7UXSEI9H2PUlmr0UhCw9\\u002f9e1+AwOiPGjCqgPGlkVNAAIRxlAQuTui3CZjBBczIXjAjXayMquqiQgFiTD5Ywh689drB7Y\\u002fFyXy9saaZIoUAxtCFGOdHe6E5MCpgxcyDj2YV9NGMZZRtpEB9YdNoRnO2lOCKRquZhgCDSiAoIqAHSoIb0ka6fhERkCRVpXogUITkaIV9eEQVYgYFRLDeDMAggFGqyWBc100MUdlGTSJtkPJ9P\\u002fyTf+9v\\u002fc+5rlOKOa8266HjYdLDUurs6tHifOF9cGbwJlxMAqTf8ckk3EIQcSwInHngU7abegF8NPSnxgoAEDGEwNGvZorBwCjSpXbSddPpNMUkqiIiqu6o55KHnHPOVllrqWZ+7MC2sTHDdZVzV1E3pagV1XZ2QAi3dIRg7PO2FA8fCARqoEs+kDo6WAJVgdtt5uLTK1BVaPAhX3YOBRCR6WxazGKIoujadrlcNppC7E5Pn071yrUrR20zCSKrZbn\\u002f4BlFZIQ3qx9+oVu5DwAw+pQ4WznhVW20C2up3mdRZXXbo6q6RwbdBs292xVQVYGojk4uAIj461vKXDQ9FtdTIqltMJJQF8t1CBGCPm+CWPKz00p5\\u002f\\u002f0Phj7XmkstpZaomstmEnh4eF1oGg2urPAhytHMaaeOeHHXmDvE+KgdSQI4TmkGjNM6UowAiBHHiEYTP+NBVVWT6qTt5tPxqLcQVYNCBBASINu2NdDMarFSSs5D3w\\u002fD0O86GlOE0QSbYUgQGvqav\\u002fgbX4Kqw98J7SbMrqgGktVMQBHZ4fBCUroIFYj6yjZJnzOSIDEMxV8Zi4BkjCn6mbEq0BgPjoaVtk2D1AybYbMZNsNw5WB\\u002f\\u002f+DKUIoRQUUIEEEDAU8duKhS3K716R+ljZEpptGQJd2FJGBmtl0ehowTBICgikZnG4x2mBlFt1+nExXVURBeKqTZGCJBraNEMYoZF2eLJqaqYblYFOhsPj+YNLTC0ZxH187qUPu+vPfggysbe+ne3dls7M+Hm6CrSB+hwwokYSI+BoBCOkORdNEhAJxJ3K7RoFaNYAyeaMPYtF2MMcboOIsaUwgpJYmRQeqo6QhASIHUbUhJBCEombyxsWPA4cFBLUWgq2GIEE1RqE3bGmkgCR0HeIlvgRgTyQgCqNVAQmBmW3ILIOKmM1yWb0kBOBstV0tnpN01CEIItVajgZLrpomrFPbICstNN23btplMNznns+V0b+8zP\\u002fi5L\\u002f79\\u002f9Un0MH72+TZrrs0bmkrKlpKUVUjIRBVuHdsjDHt5oww8c0xMQQNwc8TFRURksNQtqFoM7KybtX95SJe0ZbaAjDnYob5\\u002fOD07HyxXMSQ2ja0bRDV1LSO5FwKJBRAY3O0dzSdTHMe2mYegtLZYFfc\\u002fTIbEQUAFIF7bxiB4AAbEbaj1fbF0TndSms1UkRiLiXXGktV1RhDlr4XDTloUJUAg2D0op0KohpCCCHEmDxDoeu6yeQCMXefu7terRSBGoZStdjLL704aLfcrIecz07P+s0G+O3MVPLgyAsxpdQIQLBWMzrlaWa1WgzhQtLRhw4CtY7no+xKtRpCcMdWIKK67ofI+uz4cZA03zsI0pwvm72DozL00JArnjw9c5ZRQFTdXrgQqECTkpFwhgEvT5K5usE4KjrFbJwMVW1S44JYRWKMKcXGPzmsIcZASqmFZM55tV5v+j6XYmb1MspFROBt766Vkj\\u002f26R\\u002fMeR0iJpOuTZ00+vjJB9f2rl47uFbNRCGqsWk2xRDbzVDv3NoPYsuzc48t7OraFZIuBcUbdWRh\\u002fNdJIiIj4r03HlYEdMs5RhPAs11Ixs0wiMjGek9gBNCmFFQBKbV2bQsgxRg1OGlS08QYNYQ0fpZBVT8UoRCRtm1LrQWiMbVN+3u\\u002f9\\u002fe+9j\\u002f+T11qQM4n05qzkdyGxHZv0VhKzbnsllzMzLNtRMRB48AygFue85l1seeHDIwVQkCklBwoIqEzTqdT1j4iBgC09XodYrter2aTvSpxsynf+6N\\u002f6Ff+zs9AQLNSqUHTpXWV6Od9AlIt5wEixGiUqCid5KSZqaqqkjSjgDSWTYbPnDPqyCsSVH0pL4SQUmNmKah2bSkxl1rMgDF7aouJC6IBbJq43pzmkiTo6dlpGYK0ODo6ODq6WipFFKCKbvq8f3Q9TfYIXS5XadL8ys\\u002f\\u002fTRURjQR39pmGYGYhBBuHQtLDAl6VfEjICkgaty6qe2y7h3jBhQSiiIIQ3WWXkpDJdDbtJilFfyuoAgyqIuJRD9UA0qyqslY\\u002fSmgsJWeaGTcpRAnRorx39uDBk4c0mpGGpml91ahtL07gdddTJIx+gohsV\\u002fSsOk8YARURHWPWAAUCUlTPTk7rJV8EgIiYWR6yqoYQRGxvf15QhvUqIzQzSk6xifP5wXC+3pydp9ls6GdPn63MbISAiFX2l1I4V+u1bJeMnHN3bG5u46sS0BA4SjihW5UkREbbz1Crm5I+lxAR+ZChA1U10qpdWuWE4IKffU0dQAjh\\u002fde\\u002feu\\u002fjv\\u002fvsfNA6eemFu4vh7OnpMep79567AqEKzSwGKT1TFGEp7NvrbWURiHiUaVtiUKqQng5j400CWwcTwNiHrWALvnQG+AMikn3rqwi2QBPxvDPxF0EaBJU8PTtbLpYEJ103mUzMKs1UhTYe9RtCCEGMNF\\u002feBoAfBADgg4cPa6mf+uinQ7FiNKmnm2YzZKtmVs1MRWMIoOVLYdXppAWklDLkLNvJ81s+I+rZPfSsJCFNZDSWaTQSOxk+viUpJZLurIiordf7d65Uq21qqllZr0Jowv5eGTJiGYZ1ybJciYi6xKSBgJskXjgiigSFMljxfTFw4SRCuks\\u002fhsWdVXavb4dCOoeMrvR4hxiDggAclxDfo3BRxrsQdTcWINGkxsxms+mkC+v1en6wN93fi2w9SAWg5NKlrmetuRdgMm1EVUXdPnYV76Xm7D0QVYC7WfBhOeKcKF4EMo7Fey4wGw21kWdAESnVPL9x+65rZRGaFTMB1n2\\u002fWC2D6P7+3t7+gYiYGY25VLOKWopZtZE6XvphEISPfvIH+8z5\\u002fABaa1iWChAaUxs1hRg0fKi\\u002fQIoxD3lM8Bd4z53b3JUrpYpAVVWURFAPf0BESRt579KCaYzx+vVrI2kgRnvy7Hj\\u002fzsvTySQPxlpTm0IIOWdjWa+O03Q+aWePH52UYiKU3QaL8R8AIyuqjKGKFNOoRkUAeHqVw10ACYFmOwUkEFVZr9fT6VQoGP13iMCMBlN1xeSAc1vnkhSB1z2SRjBOLggN+sZXfulT3\\u002fNj61UeBus3sZlNppNuszyrlb4q0A8DVZs4W64Gk3in3QuamjapMKjsPoUxnU5o1g\\u002fjJ9jNIXhB1S3aCAI0E19Acl\\u002fNqbD9FwBIUQEkhhBzzs5zZgwaxGX8NpnET8CptLPF4uT0jGSMIcYmxlitmrHWYsbLPLFYriaTvWZymKZpMp21k\\u002fjs5P3v\\u002f+F\\u002f9Bf\\u002f7t+otZY8bLaku+gQcHZ+DkJGD3SkLwERCIVkCAoIMGK61CoaRPxwa6gox8WDsdRajRSIiEAAw2w2W62WIiGlwBQIrNfrSdvGKMw9mXLuU0yf+I7v\\u002fcZXP29WRKAePr1UnINdnhmNdIG6G75wnB5hKaKKUb8IAKN1XWc00MfuY\\u002fT7o9gbh8ARm5eLo0ocXnDSePoQQ9Dl6swqRJq+L6bDJDZt14QQjLVt0nTarNf9ZrNYb7Jaa9p+9of+xBd+7i8JyqVPjIybLTQEM2pQSDUjCB+mPzP+QjcHKLufNqZMckzdE4iQZtUo0Lbt1uu1u5cCqTsHTwAVCkQDVP0KgVytH4bzxXK96fthGOP9lxATYgLk8eP3Hn3w7rNnD4+PHy7On8277qf+6B9vYjObzAkxiAHDpW0jhBrEAxrkqEBIOlxoLhqMdI0EnzozklwsFz7Cy8WnEwDJWqqZLZfLR2+9JiqlFBfCvq1yyD2RN\\u002f25WbUaVstBRIIGAVxHX66WoJPVeZuk2UgwAAKIiO8UiimBHK1DON5BkkbAx2iEkXUrH0ijj0tFVVQdSrumnfdGkEHgcASNTdcAdbNZDcOgqqXYar2qlgnGGJarxf13X3\\u002f3nTcF9dq1azdv3C7Flrn5gT\\u002f4TwylbIYLP3213qw3fT\\u002fkIZecSylGjtwOXLIgAXEHUFREREdnk2OBGc23RBhFRSB6\\u002fOzxlaPDGMJsOg2KFCSFQCOr1VpYjUZ4PEuChiCiRoPQzKxWN7kuy7PZdK6a9g9v3bh57\\u002fnnXrp+9cb+\\u002fsHs8NDK8id\\u002f8sf6vDESlFJ2KhwAzCrp8TUSIOAsoW4o6E7CEUKI0dfJaOfrvlDms\\u002fmk6y5DQlUIkyASVYKeL1eqqkAtpYKlVB3OWi5rXluSvh\\u002fCULWUbMuTVf\\u002fZH\\u002fwcAQ0aY9BLTjFIQBwNjpwUU1D1ULCIOArJkTHE+RMg4NQiCOcBGRG19R994GbORyTBoRR\\u002ffmwc8LtGmMFTV40kmGK4fmUfVtBaxTopum5\\u002fsSCgBtx78cXP\\u002faM\\u002ffrR3+P57b3zw8NX7b\\u002f3aL\\u002f\\u002fsT\\u002f\\u002fCz\\u002f4My6AhXl7KJMUMPrSLouP\\u002fHdeqIXrsSTTGFEJMIcUYVQMIq5VmtGq1gI43EIhHR0fz+bwWe+\\u002f9d2\\u002ffvmXE0GeyQGE2WtYkBKilODYBAaAKEaVRtilYXlTDH\\u002fvH\\u002ftRqk0PoNZS\\u002f\\u002f0s\\u002f94lPvnzy5PSVF+62UX7qp\\u002f7442fHf+N\\u002f+1+CqvFDKgkOIwJuBV5iHQDqy\\u002fkgABqGPNRSIaFt21p0sViIXJ4UhJj6XEJFLjYMw3Qy16B938c2xias15syFE2p1F5gVvtiVuvGJKLtPO\\u002fDu3AZu+KWs3+tjCRZWUmOIToRj27479w9tFU6O8iKiE\\u002falr7gZRMHzm4IqlbNqT1eBHyyAa9A\\u002fc9S6nw2X6+WdXl+++4r0\\u002f29vtrB0eHL\\u002f8hPfv5v\\u002f\\u002fRqNfzWb\\u002f3WtWvXQ9uerhYv33uxDeHkbNVvzkkz36Q0FoqOPceo3OFQUdGxVVctAHwjo\\u002fjSjo9QYkjeTxlTJWi1imqMKa3W65JLN+mWq2WTWrOamnR+fjabzcbYrNsETpXtqGvdJsV4tdvSts3+\\u002fv6t567u709yXf\\u002f45374K1\\u002f90nSy\\u002f8HjpQI\\u002f8bk\\u002ffPPO7X\\u002fqn\\u002fnn\\u002fsV\\u002f9p84OzvZvQVgHAUA0kMAcGQJx5EIRN0I43K5EtGUsFktSYhqVJ++scSYzBBCbNvQtrOch369SSnO9+eCuDw\\u002fDWL9ZkiTaZMkKsAqLCq6WW8W5wsAAGm4bCS5doAIzUQv2nMwjVMPmPsKAkcbPTguAqDW6n9iqxEFI9xEBGbVxkQs+P8uFRHUaioaQhjnYou9Yej\\u002fxl\\u002f7S838eunzsKkvfLy98dzLyAuzoZSiIm9+7Uvt3vP9YKHpfvPxbzaSr9+5armzOi48XBQnOTwEM3Zm7AlJAeit0sx8tZCy6wkBdbSMX\\u002fAEfOxxGDI55DwYqypzP4SQ+n4ws5yHOkaqICIkSdtytaiIMyLpemQsq9U6Jn3r\\u002fldfePHu669\\u002f81d\\u002f9Yu\\u002f87s+c\\u002fv5lyU2D957\\u002fze\\u002f\\u002fMYv\\u002fvn\\u002f9ujqwQ\\u002f88E+8\\u002fc43d2+ZcWwBUNWdPy8QcJQEBGk0UoD5bH56dlZKCcFVmww5XyZZrYY8xBBXm1WtrnnNBoOGftUHsVoHGsuwnkynyhgkRGmIZHU4OT355O\\u002f87Je\\u002f8PmRyNtCmof4x\\u002f5wlKBO4y00xNf+HWEAaNbnnGKCONVEXODRHyEJcaWwlQsAdpYNvA2AHKMkHn3cVm9m1jRpvd5Mp9NlWc8m3ZMH76LWh4\\u002fuf\\u002fYznyArJOQh3715xRiuXb15+vhBo6vr1xrLC+\\u002fAVnePANr1fLzokQsBRill\\u002fqiImB9KNXbRkw9MVYTSNrH6ZmYAQHTOiCnF1NaSp9OpagREgtRSRTXnHEPc9JsYo8sVuFlAG\\u002fmbsEsL\\u002fn\\u002f6T\\u002f\\u002fr777zQebZz\\u002f\\u002fC33j99Td\\u002f4nN\\u002f9Nd+\\u002fcs5davMT3zskxPlp77js22bnh6\\u002f99Vf\\u002fw3gd\\u002fpb3lmVMVqBrYT06y6nAQeZCwnM53v0\\u002ffUipIBJL8U1mhTN7NnTJ23XqqpqqtVKqW98+Qvf9l0\\u002fcPLkfbFqZsOw2d8\\u002fCKHjUErmZDpZrtYkS\\u002fGjk3CJ4BDRGMVJ7JhwXtux2Qiske1hZq7u43b\\u002f5vgA6JwaPCVAhIZSi3neG1DNUozqmVjbsoUmQNTqJ41AVVSllNq2bWzadpYWq\\u002fWks835k3t3bvzaz\\u002f+sJwTs7e2tVicap4vFSamrsnr24L1H1+68JLhANnwmsYW2yI5vCcIICOnmG0TVmU1IV6wCTSm4LUSaFVNR9+IAxFpJZUxirEMeImLTKMmgMaRQcmma8PDRw5s3b8FAG3dUu14zQbVt1HhbquG552+cncl799\\u002f\\u002f6Cuf+o0v\\u002fubp6Wqm85eevzGVQMNHX\\u002fnE46cPbzZ3\\u002fsif+Kd2b5lBRLYCQdUcYnCtudsrEDSIComYxMwD7qNrrR7j2JamaUV1MpkBzrNETG6Hr\\u002ftVzaYp5s2KwxpSNv0GxVI9PmwPGaa51On8IMYUg+wiDgCa2NCssnocFwqo0HY+\\u002f8gMAA0EJag65gR+jXS4GAkIhb7F0WcODEkB0hBMaFZqAQiMp0XnzcbnTETI7dJWFaBoLRGcp7o3P5zu39k7PJzPgP707VIEEDAGnL7\\u002fLUnNMJnM5\\u002fNuPl+ePT17\\u002fETpuzTGMYqZAAQVEFEY3VDRbaMElAChCuYCoElJokIwcqQkAi6JzKP4BMkIgVtZecgxNkMupawJSK9QqGrd5JTSZtMLQXNS+syZzzFIuSRIPvcj3\\u002fJf\\u002fthP3tldBN4HLr7vsi0XS4chBqc+K82MoDOTgKIaQoBjxUNrJM1i8OxqnyglGS59R0yEoCt9Ee8wqZBPffZ3f+3rr6VGhroWqaVuNNI4fOSVl0\\u002fPVtDNwZVr01Zee\\u002fXrUSUI5JKz0jWBDNW05GLGUkvJ4zly\\u002fkC16jZNCGGHiVp82QAABONSwXadgDSaVRqb1NAnxczMxIOJDmAAQEyjsqbRCFWIwmqtJW82qxdfuvvs7DHXyz6v1v3svc35netzs4GEQMxsGHKXmlLKer0WkRBS182GPosKMB7DU2sJvjcWBAmy5BxUIeJUBwhfDIRbS7LabFyybnsqJDWMUTkzGk0gEayEmHGzGaaTmaYwbIYmNRBUs2plOp3UWoe+B0WcW0kVhydJN\\u002fzGRv4fF6e+d958ZUkMAIUll+hnhAAQAUmjClgrSRGQMLMYo5+GsqsRBCGEM5uJatDw2tdfXZ0tuqYVgbEYsTg\\u002fTymdnR+HmJoWIVjf509+\\u002fGO\\u002f9kvvuFG3q3J5fg7VrUBiEIgn7LsGgbh+XK\\u002fXVgxOLBAQVXMVSWCUuyTg4WWoBmMNAkJUAtWq1WoWdFRDXtxCEECCmsHMSINhGPJk2j569Pg7vv3Txfja\\u002fXf6DRTcTP1QCJACYjLpai6L1XopUvb37969941Xv\\u002fnb9kQGjT409UASoRqqmcrIzoCU8cvOJhBRSAiqWqthe4ADgGEb\\u002fAfgMigSVnIl6RGR5WY5SV2u2YqJylD6pm1EVRjUw3G0GCPhVhFjUBpB\\u002fsAP\\u002f\\u002fm\\u002f\\u002f3f\\u002fBa\\u002f6\\u002f275vh\\u002f6cwqXOyDowpEwFTFaDBpECIqMQNcgLvNEnPIUIc22tAAAGDV4PhvgTwCbYYBsYmpJJYUMITRBm6tXbtVhWWk5DwdzW6zO60ZUo9WMS6LaIEqUWlQDHMEiGD0vNbp545kXyVEGABCzWmtR1e1bEHfEAL8Sm0QyxQhCNEaOoAQvRP5nX71IO\\u002fhw2R0K9jaAz15cf3r74tY\\u002fXN699X921xWly2IANOponDgd6GYb6XcBoFYKhEY3RiEaNRCs1cI2YTP2\\u002faaddKVUFa21lpIXQ5nP9oSyyZuYUq01aPBvEPvYSymepgcjuU2\\u002fJH\\u002fvj\\u002f7XKmpGjqR3NMC7TDp93bUy95gACRqSBhkTmEilyLiIQVIlllIIqvgSkCMNIjqOCoAghiiXZBmAEOJW1MObFVURDiaz2TQvNpTQxEmI6ejwagQfvX\\u002f\\u002fbHE+lAc6rF558cW\\u002f9wu\\u002fMO0mouNaihcZv\\u002fUZqo17Anz4ENRaVYPL3BhjzlnVRfDIGyKiwVUAXCKOPgZJ+Hq5bPrek2K8Nafhznj6\\u002f6GQAG0LNQqgIXAcLAiMnhYJ+uAAEYEYze3mUb+okOILIc5uselaVZ1NmjyU05PzkMJsNheRoc8A2thYrTDUYm2TxNcQRUjDmK5mEFERb6DU7BWTNJOdPWdACKq+kg9x5hhNbKe4UYCRSbZOCjn69uJaXxQiZg7iCwCD4gtEjrqxRU8CE582VpJmoDEvywbdrEmpJWy5WEpebjab7\\u002f7Md8Zgf\\u002fWv\\u002fvTmpHn9G1+OMR5duz6ZTG5cu\\u002fRRPRoE9ADYSEAx80lh8S+5AgB8ecAnAYBCKivNF8jHi3l3TBoEIiDGeOdoc5IiQym\\u002f9vH62W\\u002f8X0my\\u002fzfLr368yIgdeuTKzTDVcXuzAObp6aMagXhEfeR8AeigJKkQESHH4GtMqcnDwGpRY0pxMu3aGDf9AKuH+3s0K0ZfDxQRFahoahqrFVAaa63VqlWjfwdoW1R24XsBKKIgajUARucF0ArNHEMAIAJSXAxsh4GtqwERn2MRz0szD7kBfnPng4+FxloLyaZp2rbVFEjeuHvn1dde01ByHsyCqly5sifS33nu+s\\u002f\\u002f3M8SbNvWyNlsr22bpmkfP34il8RJqZc22W2LOOEBke1AvBCuJElCoKLjHDg+AZeIIUTQowUMEmzUU2MdIcRq9uufGFPrvH6OO6wAJy5g1RMeICJG0ijiLDb2jSRJ79NIzlFrQ0YiQkbfGS6H4YaKwGy0NUX8DukyYdSnI0nMg7oqJMfft7dEJK6W61rzi\\u002ffuvfmttw4PDtu2qdU2m\\u002fX1a1dzHlRVpNlslm3XDXlIIZpI3fQAXRoRJCkq5g1jS8YRE+NYSHoIwBsmSSPE58Y9K9BcUo7v+6uXyQHAhYeqkKMZIQIRlDJ+kd7rB\\u002fCn\\u002f\\u002fx\\u002fuPv9cvkDv\\u002f3CWH7gn\\u002f6Dv\\u002f3SP1RIAwQYF8Gw7RU5Jl3571sS0yWx6MgDNIqI89U4SNU85BAj4AACgGpu1mAr+6VujwDzilUSzVTFu0HAttNMQSAQYAYIXNTKqKH9J0VUVQBxILrX5buNbNwxL4C57vJGXTk42pzmO1Lr9uQAEqriUYwQg2BrCBEk453bt2stb7755pWjo\\u002f39g9VqeXx6Mp1NhjzU6p8jACAQbvohzhpfvQWgMnYCgHgPvGWn6aUp316UkZrOVQpVNSOEBASeLiou67YjERfdYwP+KFgKxxWPkXwE6HP5\\u002f2kR8fkRH\\u002fXl4iDbUsO5hdzqffhCpCCXPKpyUdJo1BBGpQ8KRtFSzUQ0hEiSNBHx9C2HhQZ4TMf33gKgKoGcswAa1A07E4BGXnDFtqsVEJFxfzWAXEqMAYDAT\\u002f6mmS+0eJ7YaOA72sStHGI70ouf1cUqfawCwIxBVVTl8MbR7Vs3Hz96mGJzfnamIrFJk8kEZkbLxYYhT6fz1Wo1n85pprLb8kQA3glHzu4KIKpSa5XxFgD4i7Jlrl3v4SBzYY4dXC9qExFVVVGC242iMrazndTq2y0FJP70n\\u002f0P8P9B+S\\u002f+1L+zw5f3XGR3AT4NDgW\\u002fRVYzA7YWJka\\u002fYZwWDaRLf8YQzEapIxiTMnS7U+iCzmNNNI8MG2CG4D0YQy3uoOx0NBSA5uJp4uICYqS5Br1Q4szDAAghfoqMlZLzMJlOvXaK0EjSoRxjDCEU\\u002f84rzCtsu5ZkrcUqzaiqqkG2C3Ry7yMvqGKzWhnRb4YgYla6SVuGMt\\u002ffPzk9bZtutV53zSSFqKoeVBxxBXAra7y\\u002fF+DQMRwggBkBOncC3E4DvX8YpQAckT4LuyIykpikC0JgTN32J70SEa9FfLa4M9W3dRlt+\\u002faWtKSKehRRRJz\\u002fMN4X36kgAhczO8XhbXj\\u002fHW27VnxcIuK\\u002fE+Z2gote8zAbWWtREe6Y0xnJq4aIwMxEte9736My0tkEo01d1ZPFjWZWa3XCeH9iSiIaQxBW0LrpJKXGSNVgxDD0w2aTmgaidTwbhEZbrVbTttMYU9MOQw4xWq3DMJRa2iYR4sQcx2UkTUUJkAaliORcnPKqUqs1qTGDiATPbQHkys2j5XJ5797d87NFrSaQGMNyuZjN5ovF8uDK4fJ8GTXEEGkuNgJAAD5JzsTjFG6LiG6Fs5MdPt0kAedRMRsPgPBJGqdZRlB6NXAAbW\\u002fiQ+pJ\\u002fDGSJMjRzdldlzFnRraNwx\\u002f2n94zt\\u002fZERERB19hOKYo7FkJv3equ\\u002fl1liFsi7oqLVf+dEF8u8x76jpIYQ9\\u002f3QTXGpEEBEcDMPD+xbVszizG6Vl0szg8PDyspUHGI1bJYnB8cHBo8qV3MSLDkHmSIwR0VWg3KFOPQD7P5zGikGCGCMgyeigxBKZW0GMN6vQkiUNnfPyylathahyqbzSbFGIMfYDgCmjQ3iGOM22wa1FpBjyoEkmYopYggNUlEZP\\u002fKPKX4wgsvPPjggxSbIQ+lZACbVT+bz4dhaJtGIDUXQIKG3bRvRQkxTjywnUgREYh3SURGxt3OEAkRx5nKqGVcp5DumW4B5PbQ+O4oh\\u002fyX8U+S3rLbtG6XjL3ybdO7FlVUtXoSNscOb2twi1UEgIBwDaUiApgDZRzgBeDhDGZufV+Cr98VEQKATKZTQjRoqdXMVLBarZqmEScSkHN2STkMQ9v6WVEq6t67DcPQNI1qUI0iIAyU1WqRYmiaDhIAJa2Ufr1a7B8cwAKdXFZVUGtZrhbT6ZSUEBsRKDDkPOTaNLGUAh8zIJC+39Rq09mMJMcMUwiklOLSR0RpVq2qakrJE2REVVVrKSS92znn2XQmo4\\u002fCPGRVkZdeuffk6WMC129cX602Q+5FsL9\\u002fcHJ8moeyP98LIeScRVB9LY87c5UQ7LDiF7ZgurC24HO+nQBgRBS3WS4ioE846PXscEvXKVtjyK+AyCX7Q3QsCrYWq+0a8vWMnZgE3Lj2K9t2vDPbXwCAkOAHfosIvAVs5RkAx66IuOAZRwLgktHm4BORUkqIcTqfG0lR0hQiguViMZvvA6OlRRoE6\\u002fU6xdi0ba2s1SC0WtarpYrEmDB+1ZokBBVk202GTJIaxGrx3fspNoTGFK1UkCIY8rpanc32iECaAkZUozE3qQkxCoQGDVprHYbeCT46PBDRIOAwDFs2cIdGzMzMQOo2LOqjrrWmGFerVdOkGBMgIYRa6\\u002f8BgilLfRHSY+kAAAAASUVORK5CYII=\",\"type\":\"image\",\"xaxis\":\"x\",\"yaxis\":\"y\",\"hovertemplate\":\"x: %{x}\\u003cbr\\u003ey: %{y}\\u003cextra\\u003e\\u003c\\u002fextra\\u003e\"}],                        {\"template\":{\"data\":{\"histogram2dcontour\":[{\"type\":\"histogram2dcontour\",\"colorbar\":{\"outlinewidth\":0,\"ticks\":\"\"},\"colorscale\":[[0.0,\"#0d0887\"],[0.1111111111111111,\"#46039f\"],[0.2222222222222222,\"#7201a8\"],[0.3333333333333333,\"#9c179e\"],[0.4444444444444444,\"#bd3786\"],[0.5555555555555556,\"#d8576b\"],[0.6666666666666666,\"#ed7953\"],[0.7777777777777778,\"#fb9f3a\"],[0.8888888888888888,\"#fdca26\"],[1.0,\"#f0f921\"]]}],\"choropleth\":[{\"type\":\"choropleth\",\"colorbar\":{\"outlinewidth\":0,\"ticks\":\"\"}}],\"histogram2d\":[{\"type\":\"histogram2d\",\"colorbar\":{\"outlinewidth\":0,\"ticks\":\"\"},\"colorscale\":[[0.0,\"#0d0887\"],[0.1111111111111111,\"#46039f\"],[0.2222222222222222,\"#7201a8\"],[0.3333333333333333,\"#9c179e\"],[0.4444444444444444,\"#bd3786\"],[0.5555555555555556,\"#d8576b\"],[0.6666666666666666,\"#ed7953\"],[0.7777777777777778,\"#fb9f3a\"],[0.8888888888888888,\"#fdca26\"],[1.0,\"#f0f921\"]]}],\"heatmap\":[{\"type\":\"heatmap\",\"colorbar\":{\"outlinewidth\":0,\"ticks\":\"\"},\"colorscale\":[[0.0,\"#0d0887\"],[0.1111111111111111,\"#46039f\"],[0.2222222222222222,\"#7201a8\"],[0.3333333333333333,\"#9c179e\"],[0.4444444444444444,\"#bd3786\"],[0.5555555555555556,\"#d8576b\"],[0.6666666666666666,\"#ed7953\"],[0.7777777777777778,\"#fb9f3a\"],[0.8888888888888888,\"#fdca26\"],[1.0,\"#f0f921\"]]}],\"heatmapgl\":[{\"type\":\"heatmapgl\",\"colorbar\":{\"outlinewidth\":0,\"ticks\":\"\"},\"colorscale\":[[0.0,\"#0d0887\"],[0.1111111111111111,\"#46039f\"],[0.2222222222222222,\"#7201a8\"],[0.3333333333333333,\"#9c179e\"],[0.4444444444444444,\"#bd3786\"],[0.5555555555555556,\"#d8576b\"],[0.6666666666666666,\"#ed7953\"],[0.7777777777777778,\"#fb9f3a\"],[0.8888888888888888,\"#fdca26\"],[1.0,\"#f0f921\"]]}],\"contourcarpet\":[{\"type\":\"contourcarpet\",\"colorbar\":{\"outlinewidth\":0,\"ticks\":\"\"}}],\"contour\":[{\"type\":\"contour\",\"colorbar\":{\"outlinewidth\":0,\"ticks\":\"\"},\"colorscale\":[[0.0,\"#0d0887\"],[0.1111111111111111,\"#46039f\"],[0.2222222222222222,\"#7201a8\"],[0.3333333333333333,\"#9c179e\"],[0.4444444444444444,\"#bd3786\"],[0.5555555555555556,\"#d8576b\"],[0.6666666666666666,\"#ed7953\"],[0.7777777777777778,\"#fb9f3a\"],[0.8888888888888888,\"#fdca26\"],[1.0,\"#f0f921\"]]}],\"surface\":[{\"type\":\"surface\",\"colorbar\":{\"outlinewidth\":0,\"ticks\":\"\"},\"colorscale\":[[0.0,\"#0d0887\"],[0.1111111111111111,\"#46039f\"],[0.2222222222222222,\"#7201a8\"],[0.3333333333333333,\"#9c179e\"],[0.4444444444444444,\"#bd3786\"],[0.5555555555555556,\"#d8576b\"],[0.6666666666666666,\"#ed7953\"],[0.7777777777777778,\"#fb9f3a\"],[0.8888888888888888,\"#fdca26\"],[1.0,\"#f0f921\"]]}],\"mesh3d\":[{\"type\":\"mesh3d\",\"colorbar\":{\"outlinewidth\":0,\"ticks\":\"\"}}],\"scatter\":[{\"fillpattern\":{\"fillmode\":\"overlay\",\"size\":10,\"solidity\":0.2},\"type\":\"scatter\"}],\"parcoords\":[{\"type\":\"parcoords\",\"line\":{\"colorbar\":{\"outlinewidth\":0,\"ticks\":\"\"}}}],\"scatterpolargl\":[{\"type\":\"scatterpolargl\",\"marker\":{\"colorbar\":{\"outlinewidth\":0,\"ticks\":\"\"}}}],\"bar\":[{\"error_x\":{\"color\":\"#2a3f5f\"},\"error_y\":{\"color\":\"#2a3f5f\"},\"marker\":{\"line\":{\"color\":\"#E5ECF6\",\"width\":0.5},\"pattern\":{\"fillmode\":\"overlay\",\"size\":10,\"solidity\":0.2}},\"type\":\"bar\"}],\"scattergeo\":[{\"type\":\"scattergeo\",\"marker\":{\"colorbar\":{\"outlinewidth\":0,\"ticks\":\"\"}}}],\"scatterpolar\":[{\"type\":\"scatterpolar\",\"marker\":{\"colorbar\":{\"outlinewidth\":0,\"ticks\":\"\"}}}],\"histogram\":[{\"marker\":{\"pattern\":{\"fillmode\":\"overlay\",\"size\":10,\"solidity\":0.2}},\"type\":\"histogram\"}],\"scattergl\":[{\"type\":\"scattergl\",\"marker\":{\"colorbar\":{\"outlinewidth\":0,\"ticks\":\"\"}}}],\"scatter3d\":[{\"type\":\"scatter3d\",\"line\":{\"colorbar\":{\"outlinewidth\":0,\"ticks\":\"\"}},\"marker\":{\"colorbar\":{\"outlinewidth\":0,\"ticks\":\"\"}}}],\"scattermapbox\":[{\"type\":\"scattermapbox\",\"marker\":{\"colorbar\":{\"outlinewidth\":0,\"ticks\":\"\"}}}],\"scatterternary\":[{\"type\":\"scatterternary\",\"marker\":{\"colorbar\":{\"outlinewidth\":0,\"ticks\":\"\"}}}],\"scattercarpet\":[{\"type\":\"scattercarpet\",\"marker\":{\"colorbar\":{\"outlinewidth\":0,\"ticks\":\"\"}}}],\"carpet\":[{\"aaxis\":{\"endlinecolor\":\"#2a3f5f\",\"gridcolor\":\"white\",\"linecolor\":\"white\",\"minorgridcolor\":\"white\",\"startlinecolor\":\"#2a3f5f\"},\"baxis\":{\"endlinecolor\":\"#2a3f5f\",\"gridcolor\":\"white\",\"linecolor\":\"white\",\"minorgridcolor\":\"white\",\"startlinecolor\":\"#2a3f5f\"},\"type\":\"carpet\"}],\"table\":[{\"cells\":{\"fill\":{\"color\":\"#EBF0F8\"},\"line\":{\"color\":\"white\"}},\"header\":{\"fill\":{\"color\":\"#C8D4E3\"},\"line\":{\"color\":\"white\"}},\"type\":\"table\"}],\"barpolar\":[{\"marker\":{\"line\":{\"color\":\"#E5ECF6\",\"width\":0.5},\"pattern\":{\"fillmode\":\"overlay\",\"size\":10,\"solidity\":0.2}},\"type\":\"barpolar\"}],\"pie\":[{\"automargin\":true,\"type\":\"pie\"}]},\"layout\":{\"autotypenumbers\":\"strict\",\"colorway\":[\"#636efa\",\"#EF553B\",\"#00cc96\",\"#ab63fa\",\"#FFA15A\",\"#19d3f3\",\"#FF6692\",\"#B6E880\",\"#FF97FF\",\"#FECB52\"],\"font\":{\"color\":\"#2a3f5f\"},\"hovermode\":\"closest\",\"hoverlabel\":{\"align\":\"left\"},\"paper_bgcolor\":\"white\",\"plot_bgcolor\":\"#E5ECF6\",\"polar\":{\"bgcolor\":\"#E5ECF6\",\"angularaxis\":{\"gridcolor\":\"white\",\"linecolor\":\"white\",\"ticks\":\"\"},\"radialaxis\":{\"gridcolor\":\"white\",\"linecolor\":\"white\",\"ticks\":\"\"}},\"ternary\":{\"bgcolor\":\"#E5ECF6\",\"aaxis\":{\"gridcolor\":\"white\",\"linecolor\":\"white\",\"ticks\":\"\"},\"baxis\":{\"gridcolor\":\"white\",\"linecolor\":\"white\",\"ticks\":\"\"},\"caxis\":{\"gridcolor\":\"white\",\"linecolor\":\"white\",\"ticks\":\"\"}},\"coloraxis\":{\"colorbar\":{\"outlinewidth\":0,\"ticks\":\"\"}},\"colorscale\":{\"sequential\":[[0.0,\"#0d0887\"],[0.1111111111111111,\"#46039f\"],[0.2222222222222222,\"#7201a8\"],[0.3333333333333333,\"#9c179e\"],[0.4444444444444444,\"#bd3786\"],[0.5555555555555556,\"#d8576b\"],[0.6666666666666666,\"#ed7953\"],[0.7777777777777778,\"#fb9f3a\"],[0.8888888888888888,\"#fdca26\"],[1.0,\"#f0f921\"]],\"sequentialminus\":[[0.0,\"#0d0887\"],[0.1111111111111111,\"#46039f\"],[0.2222222222222222,\"#7201a8\"],[0.3333333333333333,\"#9c179e\"],[0.4444444444444444,\"#bd3786\"],[0.5555555555555556,\"#d8576b\"],[0.6666666666666666,\"#ed7953\"],[0.7777777777777778,\"#fb9f3a\"],[0.8888888888888888,\"#fdca26\"],[1.0,\"#f0f921\"]],\"diverging\":[[0,\"#8e0152\"],[0.1,\"#c51b7d\"],[0.2,\"#de77ae\"],[0.3,\"#f1b6da\"],[0.4,\"#fde0ef\"],[0.5,\"#f7f7f7\"],[0.6,\"#e6f5d0\"],[0.7,\"#b8e186\"],[0.8,\"#7fbc41\"],[0.9,\"#4d9221\"],[1,\"#276419\"]]},\"xaxis\":{\"gridcolor\":\"white\",\"linecolor\":\"white\",\"ticks\":\"\",\"title\":{\"standoff\":15},\"zerolinecolor\":\"white\",\"automargin\":true,\"zerolinewidth\":2},\"yaxis\":{\"gridcolor\":\"white\",\"linecolor\":\"white\",\"ticks\":\"\",\"title\":{\"standoff\":15},\"zerolinecolor\":\"white\",\"automargin\":true,\"zerolinewidth\":2},\"scene\":{\"xaxis\":{\"backgroundcolor\":\"#E5ECF6\",\"gridcolor\":\"white\",\"linecolor\":\"white\",\"showbackground\":true,\"ticks\":\"\",\"zerolinecolor\":\"white\",\"gridwidth\":2},\"yaxis\":{\"backgroundcolor\":\"#E5ECF6\",\"gridcolor\":\"white\",\"linecolor\":\"white\",\"showbackground\":true,\"ticks\":\"\",\"zerolinecolor\":\"white\",\"gridwidth\":2},\"zaxis\":{\"backgroundcolor\":\"#E5ECF6\",\"gridcolor\":\"white\",\"linecolor\":\"white\",\"showbackground\":true,\"ticks\":\"\",\"zerolinecolor\":\"white\",\"gridwidth\":2}},\"shapedefaults\":{\"line\":{\"color\":\"#2a3f5f\"}},\"annotationdefaults\":{\"arrowcolor\":\"#2a3f5f\",\"arrowhead\":0,\"arrowwidth\":1},\"geo\":{\"bgcolor\":\"white\",\"landcolor\":\"#E5ECF6\",\"subunitcolor\":\"white\",\"showland\":true,\"showlakes\":true,\"lakecolor\":\"white\"},\"title\":{\"x\":0.05},\"mapbox\":{\"style\":\"light\"}}},\"xaxis\":{\"anchor\":\"y\",\"domain\":[0.0,1.0]},\"yaxis\":{\"anchor\":\"x\",\"domain\":[0.0,1.0]},\"margin\":{\"t\":60}},                        {\"responsive\": true}                    ).then(function(){\n",
              "                            \n",
              "var gd = document.getElementById('88962fe1-cb9d-4f14-bba5-3a8b535380d9');\n",
              "var x = new MutationObserver(function (mutations, observer) {{\n",
              "        var display = window.getComputedStyle(gd).display;\n",
              "        if (!display || display === 'none') {{\n",
              "            console.log([gd, 'removed!']);\n",
              "            Plotly.purge(gd);\n",
              "            observer.disconnect();\n",
              "        }}\n",
              "}});\n",
              "\n",
              "// Listen for the removal of the full notebook cells\n",
              "var notebookContainer = gd.closest('#notebook-container');\n",
              "if (notebookContainer) {{\n",
              "    x.observe(notebookContainer, {childList: true});\n",
              "}}\n",
              "\n",
              "// Listen for the clearing of the current output cell\n",
              "var outputEl = gd.closest('.output');\n",
              "if (outputEl) {{\n",
              "    x.observe(outputEl, {childList: true});\n",
              "}}\n",
              "\n",
              "                        })                };                            </script>        </div>\n",
              "</body>\n",
              "</html>"
            ]
          },
          "metadata": {}
        }
      ]
    },
    {
      "cell_type": "markdown",
      "source": [
        "### Data Splitting"
      ],
      "metadata": {
        "id": "aRJk49yPeOM9"
      }
    },
    {
      "cell_type": "code",
      "source": [
        "dataset_whole = PedestrianDataset(DATA_FOLDER, get_transform(train = False, transform_value = 0))"
      ],
      "metadata": {
        "id": "7Y4MQIbsP9E9"
      },
      "execution_count": 74,
      "outputs": []
    },
    {
      "cell_type": "code",
      "source": [
        "training_dataset0, validation_dataset, testing_dataset = torch.utils.data.dataset.random_split(dataset_whole, [0.41, 0.295, 0.295], generator = torch.Generator().manual_seed(42))"
      ],
      "metadata": {
        "id": "HzeVUvVH6T4F"
      },
      "execution_count": 79,
      "outputs": []
    },
    {
      "cell_type": "code",
      "source": [
        "training_dataset1, val, test = torch.utils.data.dataset.random_split(PedestrianDataset(DATA_FOLDER,get_transform(train = 1, transform_value = 1)), [0.41, 0.295, 0.295], generator = torch.Generator().manual_seed(42))\n",
        "training_dataset2, val, test = torch.utils.data.dataset.random_split(PedestrianDataset(DATA_FOLDER,get_transform(train = 1, transform_value = 2)), [0.41, 0.295, 0.295], generator = torch.Generator().manual_seed(42))\n",
        "training_dataset3, val, test = torch.utils.data.dataset.random_split(PedestrianDataset(DATA_FOLDER,get_transform(train = 1, transform_value = 3)), [0.41, 0.295, 0.295], generator = torch.Generator().manual_seed(42))"
      ],
      "metadata": {
        "id": "WkH7onIkZG4z"
      },
      "execution_count": 76,
      "outputs": []
    },
    {
      "cell_type": "code",
      "source": [
        "from torch.utils.data import ConcatDataset\n",
        "\n",
        "training_dataset = ConcatDataset([training_dataset0, training_dataset1, training_dataset2, training_dataset3])"
      ],
      "metadata": {
        "id": "1HsIAWDgSmWB"
      },
      "execution_count": 86,
      "outputs": []
    },
    {
      "cell_type": "code",
      "execution_count": 87,
      "metadata": {
        "id": "N-2bufY_P8na",
        "colab": {
          "base_uri": "https://localhost:8080/"
        },
        "outputId": "cb3fb63e-4902-4000-d85d-ea0b56d2ba72"
      },
      "outputs": [
        {
          "output_type": "stream",
          "name": "stdout",
          "text": [
            "280\n",
            "50\n",
            "50\n"
          ]
        }
      ],
      "source": [
        "print(len(training_dataset))\n",
        "print(len(validation_dataset))\n",
        "print(len(testing_dataset))\n",
        "\n",
        "# We have a distribution of 73.7 % in training, 13.15 % in validation and 13.15 % in testing."
      ]
    },
    {
      "cell_type": "code",
      "source": [
        "# Using this code we save each dataset to a file.\n",
        "\n",
        "import pickle\n",
        "\n",
        "with open('training_dataset.pkl', 'wb') as file:\n",
        "    pickle.dump(training_dataset, file)\n",
        "\n",
        "with open('validation_dataset.pkl', 'wb') as file:\n",
        "    pickle.dump(validation_dataset, file)\n",
        "\n",
        "with open('testing_dataset.pkl', 'wb') as file:\n",
        "    pickle.dump(testing_dataset, file)"
      ],
      "metadata": {
        "id": "HHm6ql3OUly4"
      },
      "execution_count": 90,
      "outputs": []
    },
    {
      "cell_type": "code",
      "source": [
        "# Using this code we load each dataset from their respective file.\n",
        "\n",
        "with open('training_dataset.pkl', 'rb') as file:\n",
        "    training_dataset_loaded = pickle.load(file)\n",
        "\n",
        "with open('validation_dataset.pkl', 'rb') as file:\n",
        "    validation_dataset_loaded = pickle.load(file)\n",
        "\n",
        "with open('testing_dataset.pkl', 'rb') as file:\n",
        "    testing_dataset_loaded = pickle.load(file)"
      ],
      "metadata": {
        "id": "9M79BNwXcGHN"
      },
      "execution_count": 91,
      "outputs": []
    }
  ]
}